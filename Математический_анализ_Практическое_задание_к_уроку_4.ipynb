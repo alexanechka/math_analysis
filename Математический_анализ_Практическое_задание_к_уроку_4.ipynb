{
  "nbformat": 4,
  "nbformat_minor": 0,
  "metadata": {
    "colab": {
      "name": "Математический анализ. Практическое задание к уроку 4.ipynb",
      "provenance": [],
      "collapsed_sections": [],
      "authorship_tag": "ABX9TyOB5vXUo/HS+AfNNxs3Z4co",
      "include_colab_link": true
    },
    "kernelspec": {
      "name": "python3",
      "display_name": "Python 3"
    },
    "language_info": {
      "name": "python"
    }
  },
  "cells": [
    {
      "cell_type": "markdown",
      "metadata": {
        "id": "view-in-github",
        "colab_type": "text"
      },
      "source": [
        "<a href=\"https://colab.research.google.com/github/alexanechka/math_analysis/blob/main/%D0%9C%D0%B0%D1%82%D0%B5%D0%BC%D0%B0%D1%82%D0%B8%D1%87%D0%B5%D1%81%D0%BA%D0%B8%D0%B9_%D0%B0%D0%BD%D0%B0%D0%BB%D0%B8%D0%B7_%D0%9F%D1%80%D0%B0%D0%BA%D1%82%D0%B8%D1%87%D0%B5%D1%81%D0%BA%D0%BE%D0%B5_%D0%B7%D0%B0%D0%B4%D0%B0%D0%BD%D0%B8%D0%B5_%D0%BA_%D1%83%D1%80%D0%BE%D0%BA%D1%83_4.ipynb\" target=\"_parent\"><img src=\"https://colab.research.google.com/assets/colab-badge.svg\" alt=\"Open In Colab\"/></a>"
      ]
    },
    {
      "cell_type": "markdown",
      "source": [
        "#Математический анализ\n",
        "\n",
        "## Практическое задание к уроку 4"
      ],
      "metadata": {
        "id": "V0kWeASjMGqR"
      }
    },
    {
      "cell_type": "markdown",
      "source": [
        "__1.__ Найти предел функции:\n",
        "\n",
        "$$а)\\,\\,\\,\\,\\lim_{x\\to 6} \\frac{x^2-36}{x^2-x-30} = \\Bigl(\\frac{0}{0}\\Bigr) = \\lim_{x\\to 6} \\frac{(x-6)(x+6)}{(x-6)(x+5)} = \\frac{6+6}{6+5} = \\frac{12}{11}$$\n",
        "\n",
        "$$б)\\,\\,\\,\\,\\lim_{x\\to 7} \\frac{x^2-49}{x^2-13x+42} = \\Bigl ( \\frac{0}{0} \\Bigr ) = \\frac {(x-7)(x+7)} {(x-7)(x-6)} = \\frac {7+7} {7-6} = 14$$\n",
        "\n",
        "$$г)\\,\\,\\,\\,\\lim_{x\\to 0} \\frac{3x\\,\\mbox{tg}\\,4x}{1-\\cos4x} = \\frac{3x\\,\\mbox{tg}\\,4x}{\\frac{4x\\,4x}{2}} = \\frac{2\\, 3x\\, \\mbox{tg}\\,4x}{4x\\, 4x} = \\frac{3}{2}$$\n",
        "\n",
        "$$е)\\,\\,\\,\\,\\lim_{x\\to \\infty} \\Bigr(\\frac{4x}{4x+3}\\Bigl)^\\frac{5x^2}{7x-1} = \\lim_{x\\to \\infty} \\Bigr(\\frac{4x + 3 - 3}{4x+3}\\Bigl)^\\frac{5x^2}{7x-1} = \\lim_{x\\to \\infty} \\Bigr(1 - \\frac{3}{4x+3}\\Bigl)^\\frac{5x^2}{7x-1} = $$\n",
        "$$ =  \\lim_{x\\to \\infty} \\Bigr(1 - \\frac{3}{4x+3}\\Bigl)^{\\frac{5x^2}{7x-1}\\frac{-3}{4x+3}\\frac{4x+3}{-3} } =  \\lim_{x\\to \\infty} e^{\\frac{5x^2}{7x-1}\\frac{-3}{4x+3}} = \\lim_{x\\to \\infty} e^{\\frac{-15x^2}{(7x-1)(4x+3)}} = e ^{-\\frac{15}{28}}$$\n"
      ],
      "metadata": {
        "id": "bjQFqDN9MHYE"
      }
    }
  ]
}