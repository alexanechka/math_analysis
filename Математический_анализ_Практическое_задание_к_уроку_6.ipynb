{
  "nbformat": 4,
  "nbformat_minor": 0,
  "metadata": {
    "colab": {
      "name": "Математический анализ. Практическое задание к уроку 6.ipynb",
      "provenance": [],
      "collapsed_sections": [],
      "authorship_tag": "ABX9TyNMCN+/F/CU019sOXUV1DZd",
      "include_colab_link": true
    },
    "kernelspec": {
      "name": "python3",
      "display_name": "Python 3"
    },
    "language_info": {
      "name": "python"
    }
  },
  "cells": [
    {
      "cell_type": "markdown",
      "metadata": {
        "id": "view-in-github",
        "colab_type": "text"
      },
      "source": [
        "<a href=\"https://colab.research.google.com/github/alexanechka/math_analysis/blob/main/%D0%9C%D0%B0%D1%82%D0%B5%D0%BC%D0%B0%D1%82%D0%B8%D1%87%D0%B5%D1%81%D0%BA%D0%B8%D0%B9_%D0%B0%D0%BD%D0%B0%D0%BB%D0%B8%D0%B7_%D0%9F%D1%80%D0%B0%D0%BA%D1%82%D0%B8%D1%87%D0%B5%D1%81%D0%BA%D0%BE%D0%B5_%D0%B7%D0%B0%D0%B4%D0%B0%D0%BD%D0%B8%D0%B5_%D0%BA_%D1%83%D1%80%D0%BE%D0%BA%D1%83_6.ipynb\" target=\"_parent\"><img src=\"https://colab.research.google.com/assets/colab-badge.svg\" alt=\"Open In Colab\"/></a>"
      ]
    },
    {
      "cell_type": "markdown",
      "source": [
        "#Математический анализ\n",
        "\n",
        "## Практическое задание к уроку 6"
      ],
      "metadata": {
        "id": "kVabdw-lWpRR"
      }
    },
    {
      "cell_type": "markdown",
      "metadata": {
        "id": "SmdURZ_OkVqQ"
      },
      "source": [
        "__1.__ Найти производную $y'_{x}$ функции:\n",
        "\n",
        "$$\\mbox{arctg}(\\frac{y}{x})=\\ln \\sqrt{x^2+y^2}$$\n",
        "$$ \\,$$\n",
        "$$ (\\mbox{arctg}(\\frac{y}{x}))' = \\frac{1}{1+(\\frac{y}{x})^2} \\cdot \\frac{y'\\cdot x - y \\cdot 1}{x^2} = \\frac{y' \\cdot x - y}{x^2 + y^2}$$\n",
        "$$ $$\n",
        "$$ (\\ln \\sqrt{x^2+y^2})' = \\frac{1}{\\sqrt{x^2 + y^2}} \\cdot \\frac{1}{2} \\cdot (x^2+y^2)^{-\\frac{1}{2}}\\cdot (2x + 2y \\cdot y') = $$\n",
        "\n",
        "$$ = \\frac{1}{\\sqrt{x^2 + y^2}} \\cdot \\frac{1}{2 \\cdot \\sqrt{x^2 + y^2}} \\cdot 2(x+ y \\cdot y') = \\frac{x + y \\cdot y'}{x^2 + y^2} $$\n",
        "$$ \\, $$\n",
        "$$ y' \\cdot x - y = x + y \\cdot y'$$\n",
        "$$ y' \\cdot x - y \\cdot y' = x + y$$\n",
        "$$ y' ( x - y ) = x + y $$\n",
        "$$ \\,$$\n",
        "$$ y' = \\frac{x + y}{ x - y} $$\n",
        "$$\\,$$"
      ]
    },
    {
      "cell_type": "markdown",
      "metadata": {
        "id": "cECfCSANkVqR"
      },
      "source": [
        "__2.__ Найти производную $y'_{x}$ функции:\n",
        "\n",
        "\\begin{cases}\n",
        "   y=\\frac{t^2}{t-1}, \\\\\n",
        "   x=\\frac{t}{t^2-1} \n",
        " \\end{cases}\n",
        "\n",
        " $$ y'_{t} = \\frac{2t \\cdot (t-1) - t^2 \\cdot 1 }{(t-1)^2} = \\frac{2t^2 -2t - t^2}{(t-1)^2} = \\frac{t^2 - 2t}{(t-1)^2}$$\n",
        " $$ \\,$$\n",
        " $$ x'_{t} = \\frac{1 \\cdot (t^2 - 1) - 2t \\cdot t}{(t^2-1)^2} = \\frac{-t^2 - 1}{(t^2-1)^2}$$\n",
        "\n",
        "  $$ \\,$$\n",
        " $$ y'_{x}=\\frac{y'_{t}}{x'_{t}} = \\frac{t^2 - 2t}{(t-1)^2} \\cdot \\frac{(t^2-1)^2}{-t^2 - 1} =  \\frac{t^2 - 2t}{(t-1)^2} \\cdot \\frac{(t^2-1)^2}{-t^2 - 1} \\cdot \\frac{(t + 1)^2}{(t+1)^2} = $$\n",
        " $$ \\,$$\n",
        " $$= -\\frac{(t^2 - 2t) \\cdot (t^2-1)^2 \\cdot (t + 1)}{(t-1) ^2 \\cdot (t^2 + 1) \\cdot (t+1)^2 } = -\\frac{(t^2 - 2t) \\cdot (t + 1)^2} {t^2+1} $$\n",
        "$$ \\,$$\n",
        "$$y'_{x}=-\\frac{(t^2 - 2t) \\cdot (t + 1)^2} {t^2+1} $$\n",
        " $$\\,$$"
      ]
    },
    {
      "cell_type": "markdown",
      "metadata": {
        "id": "DFrjdtbHkVqS"
      },
      "source": [
        "__3.__ Найти производную с помощью логарифмирования:\n",
        "\n",
        " $$y=(x^2+2)^5\\cdot(3x-x^3)^3$$\n",
        " $$ \\,$$\n",
        " $$y'=f(x)\\cdot (\\ln f(x))' = (x^2+2)^5\\cdot(3x-x^3)^3 \\cdot \\Bigl(\\frac{5 \\cdot 2x}{x^2 + 2} + \\frac{3(3-3x^2)}{3x-x^3}\\Bigr)$$\n",
        " $$\\,$$"
      ]
    },
    {
      "cell_type": "markdown",
      "metadata": {
        "id": "5la-eVLukVqT"
      },
      "source": [
        "__4.__ Найти производную функции с помощью логарифмирования:\n",
        "\n",
        "$$y=x^x$$\n",
        "$$\\,$$\n",
        "$$y'=f(x)\\cdot (\\ln f(x))'$$\n",
        "$$\\,$$\n",
        "$$\\ln f(x) = x \\cdot \\ln x $$\n",
        "$$\\,$$\n",
        "$$y' = x^x \\cdot (1 \\cdot \\ln x + x \\cdot \\frac{1}{x}) = x^x \\cdot (\\ln x + 1) $$"
      ]
    },
    {
      "cell_type": "markdown",
      "metadata": {
        "id": "kQlell_GkVqU"
      },
      "source": [
        "__5.__ Найти производную функции с помощью логарифмирования:\n",
        "\n",
        "$$y=\\frac{(2-x^2)^3\\cdot(x-1)^2}{(2x^3-3x)\\cdot e^x}$$"
      ]
    },
    {
      "cell_type": "markdown",
      "metadata": {
        "id": "yx_QOvyGG9d5"
      },
      "source": [
        "__7.__ Найти длину $𝑥$ и ширину $𝑦$ прямоугольника при заданном периметре $𝑃=144$ cм, при которых данный прямоугольник имеет наибольшую площадь $𝑆$.\n",
        "$$ \\,$$\n",
        "\\begin{cases}\n",
        "   P=2 \\cdot (x + y) = 144, \\\\\n",
        "   S= x \\cdot y \n",
        " \\end{cases}\n",
        "$$\\,$$\n",
        " \\begin{cases}\n",
        "   P= (x + y) = 72, \\\\\n",
        "   S= x \\cdot y \n",
        " \\end{cases}\n",
        "$$ \\,$$\n",
        "$$ x= 72 - y$$\n",
        "$$ \\,$$\n",
        "$$ S = (72 - y) \\cdot y = 72 y - y^2 $$\n",
        "$$ S' = 72 - 2y = 0$$\n",
        "$$ \\,$$\n",
        "$$ y = 36 $$\n",
        "$$ x = 72 - 36 = 36$$\n",
        "\n",
        "\n"
      ]
    }
  ]
}