{
  "nbformat": 4,
  "nbformat_minor": 0,
  "metadata": {
    "colab": {
      "name": "Математический анализ. Практическое задание к уроку 5.ipynb",
      "provenance": [],
      "collapsed_sections": [],
      "authorship_tag": "ABX9TyMQTfPPa6EpasEe7wW9zHn2",
      "include_colab_link": true
    },
    "kernelspec": {
      "name": "python3",
      "display_name": "Python 3"
    },
    "language_info": {
      "name": "python"
    }
  },
  "cells": [
    {
      "cell_type": "markdown",
      "metadata": {
        "id": "view-in-github",
        "colab_type": "text"
      },
      "source": [
        "<a href=\"https://colab.research.google.com/github/alexanechka/math_analysis/blob/main/%D0%9C%D0%B0%D1%82%D0%B5%D0%BC%D0%B0%D1%82%D0%B8%D1%87%D0%B5%D1%81%D0%BA%D0%B8%D0%B9_%D0%B0%D0%BD%D0%B0%D0%BB%D0%B8%D0%B7_%D0%9F%D1%80%D0%B0%D0%BA%D1%82%D0%B8%D1%87%D0%B5%D1%81%D0%BA%D0%BE%D0%B5_%D0%B7%D0%B0%D0%B4%D0%B0%D0%BD%D0%B8%D0%B5_%D0%BA_%D1%83%D1%80%D0%BE%D0%BA%D1%83_5.ipynb\" target=\"_parent\"><img src=\"https://colab.research.google.com/assets/colab-badge.svg\" alt=\"Open In Colab\"/></a>"
      ]
    },
    {
      "cell_type": "markdown",
      "source": [
        "#Математический анализ\n",
        "\n",
        "## Практическое задание к уроку 5"
      ],
      "metadata": {
        "id": "URk7plW64xcG"
      }
    },
    {
      "cell_type": "markdown",
      "source": [
        "__1.__ Найти производную функции:\n",
        "\n",
        "$$y=\\frac{1}{x}+\\frac{2}{x^2}-\\frac{5}{x^3}+\\sqrt x -\\sqrt[3]x+\\frac{3}{\\sqrt x}$$\n",
        "\n",
        "$$y' = -\\frac{1}{x^2} -  \\frac{4}{x^3} +  \\frac{15}{x^4} + \\frac{1}{2}x^{-\\frac{1}{2}} - \\frac{1}{3}x^{-\\frac{2}{3}}-\\frac{3}{2}x^{-\\frac{3}{2}}$$"
      ],
      "metadata": {
        "id": "QNDaHXVs4y1o"
      }
    },
    {
      "cell_type": "markdown",
      "source": [
        "__2.__ Найти производную функции:\n",
        "\n",
        "$$y=x \\cdot \\sqrt {1+x^2}$$\n",
        "$$y' = \\sqrt {1+x^2} + \\frac{1}{2}\\cdot x \\cdot (1 + x^2)^{-\\frac{1}{2}}\\cdot 2x = \\sqrt {1+x^2} + \\frac{x^2}{\\sqrt {1+x^2}}$$"
      ],
      "metadata": {
        "id": "dgNvrpwUpY0M"
      }
    },
    {
      "cell_type": "markdown",
      "source": [
        "__3.__ Найти производную функции:\n",
        "\n",
        "$$y= \\frac{2x}{1-x^2}$$\n",
        "$$y' = \\frac{2\\cdot (1-x^2) + 2x \\cdot 2x}{(1-x^2)^2} = \\frac{2+2x^2}{(1-x^2)^2}$$"
      ],
      "metadata": {
        "id": "FYcWAP_ssW3q"
      }
    },
    {
      "cell_type": "markdown",
      "source": [
        "__5.__ Найти производную функции:\n",
        " $$y= \\ln(x+\\sqrt{x^2+1})$$\n",
        " $$y' = \\frac{1}{x+\\sqrt{x^2+1}} \\cdot (1+ \\frac{1}{2} (x^2 + 1)^{-\\frac{1}{2}} \\cdot 2x) = $$\n",
        " $$ = \\frac{1}{x+\\sqrt{x^2+1}} \\cdot (1+ \\frac{x}{\\sqrt{x^2+1}}) =$$\n",
        " $$ = \\frac{1}{x+\\sqrt{x^2+1}} \\cdot \\frac{\\sqrt{x^2+1} + x}{\\sqrt{x^2+1}} = $$\n",
        " $$ = \\frac{1}{\\sqrt{x^2+1}}$$"
      ],
      "metadata": {
        "id": "ipgcIW2gA0Ge"
      }
    },
    {
      "cell_type": "markdown",
      "source": [
        "__6.__ Найти производную функции:\n",
        "\n",
        "$$y=x \\cdot \\ln(x+\\sqrt{x^2+1})-\\sqrt{x^2+1}$$\n",
        "\n",
        "$$y' = \\ln(x+\\sqrt{x^2+1}) + \\frac{1}{\\sqrt{x^2+1}} - \\frac{1}{2}\\cdot (x^2 + 1)^{-\\frac{1}{2}} \\cdot 2x = $$\n",
        "$$ =  \\ln(x+\\sqrt{x^2+1}) + \\frac{1}{\\sqrt{x^2+1}} - \\frac{1}{\\sqrt{x^2+1}} = $$\n",
        "$$ = \\ln(x+\\sqrt{x^2+1}) $$"
      ],
      "metadata": {
        "id": "Mf7GAwFuS2ww"
      }
    }
  ]
}