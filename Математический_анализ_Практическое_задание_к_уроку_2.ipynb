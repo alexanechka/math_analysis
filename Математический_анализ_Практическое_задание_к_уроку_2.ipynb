{
  "nbformat": 4,
  "nbformat_minor": 0,
  "metadata": {
    "colab": {
      "name": "Математический анализ. Практическое задание к уроку 2.ipynb",
      "provenance": [],
      "collapsed_sections": [],
      "authorship_tag": "ABX9TyNbuEjiIcn4dOaUzvPfdgrY",
      "include_colab_link": true
    },
    "kernelspec": {
      "name": "python3",
      "display_name": "Python 3"
    },
    "language_info": {
      "name": "python"
    }
  },
  "cells": [
    {
      "cell_type": "markdown",
      "metadata": {
        "id": "view-in-github",
        "colab_type": "text"
      },
      "source": [
        "<a href=\"https://colab.research.google.com/github/alexanechka/math_analysis/blob/main/%D0%9C%D0%B0%D1%82%D0%B5%D0%BC%D0%B0%D1%82%D0%B8%D1%87%D0%B5%D1%81%D0%BA%D0%B8%D0%B9_%D0%B0%D0%BD%D0%B0%D0%BB%D0%B8%D0%B7_%D0%9F%D1%80%D0%B0%D0%BA%D1%82%D0%B8%D1%87%D0%B5%D1%81%D0%BA%D0%BE%D0%B5_%D0%B7%D0%B0%D0%B4%D0%B0%D0%BD%D0%B8%D0%B5_%D0%BA_%D1%83%D1%80%D0%BE%D0%BA%D1%83_2.ipynb\" target=\"_parent\"><img src=\"https://colab.research.google.com/assets/colab-badge.svg\" alt=\"Open In Colab\"/></a>"
      ]
    },
    {
      "cell_type": "markdown",
      "source": [
        "#Математический анализ\n",
        "\n",
        "## Практическое задание к уроку 2"
      ],
      "metadata": {
        "id": "XLkTGgjYFy0O"
      }
    },
    {
      "cell_type": "markdown",
      "source": [
        "### __1.__ Представьте в виде __несократимой__ обыкновенной дроби:\n",
        "\n"
      ],
      "metadata": {
        "id": "AVvaQ6_NFwAz"
      }
    },
    {
      "cell_type": "markdown",
      "source": [
        " $$а)\\,\\,\\, 0.(216);$$\n",
        "\n",
        " $$a=0.(216)$$\n",
        "\n",
        " $$1000a=216.(216)$$\n",
        " \n",
        " $$1000a=216+0.(216)$$\n",
        "\n",
        " $$1000a=216+a$$\n",
        "\n",
        " $$999a=216$$\n",
        "\n",
        " $$a=\\frac{216}{999}=\\frac{8}{37}$$\n",
        "\n",
        " $$0.(216)=\\frac{8}{37}$$\n"
      ],
      "metadata": {
        "id": "kkGDbxYwGK0a"
      }
    },
    {
      "cell_type": "code",
      "source": [
        "print (8 / 37)"
      ],
      "metadata": {
        "colab": {
          "base_uri": "https://localhost:8080/"
        },
        "id": "MQg1VGvmHXoG",
        "outputId": "0e406d1b-3524-404f-dfc6-ba2ff135517f"
      },
      "execution_count": null,
      "outputs": [
        {
          "output_type": "stream",
          "name": "stdout",
          "text": [
            "0.21621621621621623\n"
          ]
        }
      ]
    },
    {
      "cell_type": "markdown",
      "source": [
        " $$б)\\,\\,\\, 1.0(01).$$\n",
        "\n"
      ],
      "metadata": {
        "id": "JwGzwGcxHNQB"
      }
    },
    {
      "cell_type": "markdown",
      "source": [
        " $$a=1.0(01)$$\n",
        "\n",
        " $$1000a=1001.(01)$$\n",
        "\n",
        " $$1000a=1001+0.(01)$$\n",
        "\n",
        " $$b=0.(01)$$\n",
        "\n",
        " $$100b=1 + 0.(01)$$\n",
        "\n",
        " $$100b=1 + b$$\n",
        "\n",
        " $$99b=1$$\n",
        "\n",
        " $$b=\\frac{1}{99}$$\n",
        "\n",
        " $$1000a=1001 + \\frac{1}{99}$$\n",
        "\n",
        " $$1000a=\\frac{99 099 + 1}{99}$$\n",
        "\n",
        " $$a=\\frac{99 100}{99000}$$\n",
        "\n",
        " $$a=\\frac{991}{990}$$\n",
        "\n",
        " $$1.0(01)=\\frac{991}{990}$$\n"
      ],
      "metadata": {
        "id": "GvxmtbkfHkZQ"
      }
    },
    {
      "cell_type": "code",
      "source": [
        "print(1/99)"
      ],
      "metadata": {
        "colab": {
          "base_uri": "https://localhost:8080/"
        },
        "id": "F4Nm4DOcIxeQ",
        "outputId": "a9096b38-224b-4291-b9ff-0723703006b7"
      },
      "execution_count": null,
      "outputs": [
        {
          "output_type": "stream",
          "name": "stdout",
          "text": [
            "0.010101010101010102\n"
          ]
        }
      ]
    },
    {
      "cell_type": "code",
      "source": [
        "print(991/990)"
      ],
      "metadata": {
        "colab": {
          "base_uri": "https://localhost:8080/"
        },
        "id": "zCMDV6bdKDTm",
        "outputId": "aaed0399-d8af-496a-d548-a376ff8f890f"
      },
      "execution_count": null,
      "outputs": [
        {
          "output_type": "stream",
          "name": "stdout",
          "text": [
            "1.001010101010101\n"
          ]
        }
      ]
    },
    {
      "cell_type": "markdown",
      "source": [
        ""
      ],
      "metadata": {
        "id": "4FKMY-JtKq94"
      }
    },
    {
      "cell_type": "markdown",
      "source": [
        "### __3.__ Проверьте любым способ, является ли данные логические формулы тавтологией:"
      ],
      "metadata": {
        "id": "Qal4OrXmOgtK"
      }
    },
    {
      "cell_type": "markdown",
      "source": [
        "\n",
        " $$a)\\,\\,\\, (A \\vee B) \\rightarrow (B \\vee\\overline A)$$\n",
        "\n",
        "\n"
      ],
      "metadata": {
        "id": "fmh5WjWyO-OF"
      }
    },
    {
      "cell_type": "markdown",
      "metadata": {
        "id": "i6mgZxthLwJj"
      },
      "source": [
        "<table>\n",
        "<thead>\n",
        "<tr><th>$A$</th><th>$B$</th><th>$A\\vee B$</th><th>$(B\\vee\\overline A)$</th><th>$(A \\vee B) \\rightarrow (B \\vee\\overline A)$</th></tr>\n",
        "</thead>\n",
        "<tbody>\n",
        "    <tr><td>$0$</td><td>$0$</td><td>$0$</td><td>$1$</td><td>$1$</td></tr>\n",
        "    <tr><td>$0$</td><td>$1$</td><td>$1$</td><td>$1$</td><td>$1$</td></tr>\n",
        "    <tr><td>$1$</td><td>$0$</td><td>$1$</td><td>$0$</td><td>$0$</td></tr>\n",
        "    <tr><td>$1$</td><td>$1$</td><td>$1$</td><td>$1$</td><td>$1$</td></tr>\n",
        "</tbody>\n",
        "</table>\n"
      ]
    },
    {
      "cell_type": "markdown",
      "source": [
        "\n",
        "Выражение $(A \\vee B) \\rightarrow (B \\vee\\overline A)$ не является тавтологией\n",
        "\n"
      ],
      "metadata": {
        "id": "eycyRPdaSnlZ"
      }
    },
    {
      "cell_type": "markdown",
      "source": [
        " $$б)\\,\\,\\, A \\rightarrow (A \\vee (\\overline B \\wedge A))$$"
      ],
      "metadata": {
        "id": "m1c6J8A_O-Zc"
      }
    },
    {
      "cell_type": "markdown",
      "source": [
        "<table>\n",
        "<thead>\n",
        "<tr><th>$A$</th><th>$B$</th><th>$(\\overline B \\wedge A)$</th><th>$(A \\vee (\\overline B \\wedge A)$</th><th>$A \\rightarrow (A \\vee (\\overline B \\wedge A))$</th></tr>\n",
        "</thead>\n",
        "<tbody>\n",
        "    <tr><td>$0$</td><td>$0$</td><td>$0$</td><td>$0$</td><td>$1$</td></tr>\n",
        "    <tr><td>$0$</td><td>$1$</td><td>$0$</td><td>$0$</td><td>$1$</td></tr>\n",
        "    <tr><td>$1$</td><td>$0$</td><td>$1$</td><td>$1$</td><td>$1$</td></tr>\n",
        "    <tr><td>$1$</td><td>$1$</td><td>$0$</td><td>$1$</td><td>$1$</td></tr>\n",
        "</tbody>\n",
        "</table>"
      ],
      "metadata": {
        "id": "8_Z3WnjC4tE0"
      }
    },
    {
      "cell_type": "markdown",
      "source": [
        "Выражение $A \\rightarrow (A \\vee (\\overline B \\wedge A))$ является тавтологией"
      ],
      "metadata": {
        "id": "rAzlQyrBTcf7"
      }
    },
    {
      "cell_type": "markdown",
      "source": [
        "### __4.__ Сформулируйте словесно высказывания:\n",
        "\n",
        " $$a)\\,\\,\\, (\\overline A \\vee B) \\rightarrow \\overline C$$\n",
        " $$б)\\,\\,\\, C \\rightarrow (A \\vee \\overline B)$$\n",
        "\n",
        "- $A:\\,\\,\\,$ сегодня светит солнце; \n",
        "- $B:\\,\\,\\,$ сегодня сыро; \n",
        "- $C:\\,\\,\\,$ я поеду на дачу. \n"
      ],
      "metadata": {
        "id": "9Yub25J-TA-b"
      }
    },
    {
      "cell_type": "markdown",
      "source": [
        "а) Если сегодня не светит солнце или сегодня сыро, тогда я не поеду на дачу\n",
        "\n",
        "б) Я поеду на дачу только в том случае, если сегодня светит солнце и не сыро"
      ],
      "metadata": {
        "id": "vRnzW8vx47T1"
      }
    },
    {
      "cell_type": "markdown",
      "source": [
        "### __5.__  Пользуясь правилом построения противоположного высказывания, запишите утверждения, противоположные следующим:\n",
        "\n",
        "a) На любом курсе каждого факультета есть студенты, сдающие все экзамены на «отлично».\n",
        "\n",
        "$+$  На $\\forall$ курсе $\\forall$ факультета __есть__ студенты, __сдающие__ $\\forall$ экзамены на \"отлично\" \n",
        "\n",
        "$-$ __Есть__ $\\exists$ курсы $\\exists$ факультета, где __есть__ студенты, __не получившие__ \"отлично\" за $\\exists$ экзамены\n",
        "\n",
        "б) В любом самолете на рейсе Вашингтон-Москва присутствует хотя бы один сотрудник силовых органов, в каждой пуговице одежды которого вмонтирован микрофон.\n",
        "\n",
        "$+$ В $\\forall$ самолете на рейсе Вашингтон-Москва __присутствует__ хотя бы один сотрудник силовых органов, в $\\forall$ пуговице одежды которого __вмонтирован__ микрофон\n",
        "\n",
        "$-$  __Есть__ $\\exists$ рейсы Вашингтон-Москва, где __нет__ сотрудников силовых органов, в одежде которого $\\exists$ пуговицы __без вмонтированного__ микрофона"
      ],
      "metadata": {
        "id": "WiTJ8PF46p09"
      }
    }
  ]
}