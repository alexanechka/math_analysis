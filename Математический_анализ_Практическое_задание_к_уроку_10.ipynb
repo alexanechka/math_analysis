{
  "nbformat": 4,
  "nbformat_minor": 0,
  "metadata": {
    "colab": {
      "name": "Математический анализ. Практическое задание к уроку 10.ipynb",
      "provenance": [],
      "collapsed_sections": [],
      "authorship_tag": "ABX9TyNCshwKmNddcNETnT8uNUnF",
      "include_colab_link": true
    },
    "kernelspec": {
      "name": "python3",
      "display_name": "Python 3"
    },
    "language_info": {
      "name": "python"
    }
  },
  "cells": [
    {
      "cell_type": "markdown",
      "metadata": {
        "id": "view-in-github",
        "colab_type": "text"
      },
      "source": [
        "<a href=\"https://colab.research.google.com/github/alexanechka/math_analysis/blob/main/%D0%9C%D0%B0%D1%82%D0%B5%D0%BC%D0%B0%D1%82%D0%B8%D1%87%D0%B5%D1%81%D0%BA%D0%B8%D0%B9_%D0%B0%D0%BD%D0%B0%D0%BB%D0%B8%D0%B7_%D0%9F%D1%80%D0%B0%D0%BA%D1%82%D0%B8%D1%87%D0%B5%D1%81%D0%BA%D0%BE%D0%B5_%D0%B7%D0%B0%D0%B4%D0%B0%D0%BD%D0%B8%D0%B5_%D0%BA_%D1%83%D1%80%D0%BE%D0%BA%D1%83_10.ipynb\" target=\"_parent\"><img src=\"https://colab.research.google.com/assets/colab-badge.svg\" alt=\"Open In Colab\"/></a>"
      ]
    },
    {
      "cell_type": "markdown",
      "source": [
        "#Математический анализ\n",
        "\n",
        "## Практическое задание к уроку 10"
      ],
      "metadata": {
        "id": "7M8Jy81DviEG"
      }
    },
    {
      "cell_type": "markdown",
      "metadata": {
        "id": "SmdURZ_OkVqQ"
      },
      "source": [
        "__1.__ Исследовать сходимость ряда. \n",
        "\n",
        "\n",
        "$$\\frac{1}{2\\sqrt2}+\\frac{1}{3\\sqrt3}+\\,...\\,+\\frac{1}{(n+1)\\sqrt{n+1}}+\\,...\\,=\\sum\\limits_{n=1}^{+\\infty}\\frac{1}{(n+1)\\sqrt{n+1}}$$\n",
        "\n",
        "(*) Двумя различными признаками.\n",
        "$$\\,$$\n",
        "__Решение__\n",
        "$$\\,$$\n",
        "1.   Второй признак сравнения\n",
        "$$\\,$$\n",
        "$$\\frac{1}{(n+1)\\sqrt{n+1}} = \\frac{1}{(n+1)^{\\frac{3}{2}}} \\sim O\\Bigr(\\frac{1}{n^{\\frac{3}{2}}}\\Bigl)$$\n",
        "$$\\,$$\n",
        "$\\frac{3}{2} > 1 ⇒ $ ряд сходится\n",
        "$$\\,$$\n",
        "2.   Признак д’Аламбера\n",
        "$$\\,$$\n",
        "$$\\lim_{n\\to +\\infty}\\frac{a_{n+1}}{a_{n}}=q$$\n",
        "\n",
        "- если $q<1$, то ряд сходится;\n",
        "- если $q>1$, то ряд расходится;\n",
        "- если $q=1$, то признак д’Аламбера не работает.\n",
        "\n",
        "$$\\,$$\n",
        "$$\\lim_{n\\to +\\infty}\\frac{1}{(n+1)^{\\frac{3}{2}}} \\cdot n^{\\frac{3}{2}}=1$$\n",
        "$$\\,$$\n",
        "$ ⇒ $ признак д’Аламбера не работает.\n",
        "$$\\,$$\n",
        "\n",
        "\n"
      ]
    },
    {
      "cell_type": "markdown",
      "metadata": {
        "id": "cECfCSANkVqR"
      },
      "source": [
        "__2.__ Исследовать сходимость ряда\n",
        "\n",
        "$$\\frac{1000}{1!}+\\frac{1000^2}{2!}+\\,...\\,+\\frac{1000^n}{n!}+\\,...\\,=\\sum\\limits_{n=1}^{+\\infty}\\frac{1000^n}{n!}$$\n",
        "$$\\,$$\n",
        "__Решение__\n",
        "$$\\,$$\n",
        "Признак д’Аламбера\n",
        "$$\\,$$\n",
        "$$\\lim_{n\\to +\\infty}\\frac{a_{n+1}}{a_{n}}=q$$\n",
        "\n",
        "- если $q<1$, то ряд сходится;\n",
        "- если $q>1$, то ряд расходится;\n",
        "- если $q=1$, то признак д’Аламбера не работает.\n",
        "\n",
        "$$\\,$$\n",
        "$$\\lim_{n\\to +\\infty}\\frac{1000^{n+1}}{(n+1)!} \\cdot \\frac{n!}{1000^n} = \\lim_{n\\to +\\infty}\\frac{1000}{n+1} = 0$$\n",
        "$$\\,$$\n",
        "$ ⇒ q<1$, ряд сходится.\n",
        "$$\\,$$"
      ]
    }
  ]
}