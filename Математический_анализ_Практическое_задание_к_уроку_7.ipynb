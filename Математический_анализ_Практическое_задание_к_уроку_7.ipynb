{
  "nbformat": 4,
  "nbformat_minor": 0,
  "metadata": {
    "colab": {
      "name": "Математический анализ. Практическое задание к уроку 7.ipynb",
      "provenance": [],
      "collapsed_sections": [],
      "authorship_tag": "ABX9TyM+0cPL0a43UmR80aO03nDX",
      "include_colab_link": true
    },
    "kernelspec": {
      "name": "python3",
      "display_name": "Python 3"
    },
    "language_info": {
      "name": "python"
    }
  },
  "cells": [
    {
      "cell_type": "markdown",
      "metadata": {
        "id": "view-in-github",
        "colab_type": "text"
      },
      "source": [
        "<a href=\"https://colab.research.google.com/github/alexanechka/math_analysis/blob/main/%D0%9C%D0%B0%D1%82%D0%B5%D0%BC%D0%B0%D1%82%D0%B8%D1%87%D0%B5%D1%81%D0%BA%D0%B8%D0%B9_%D0%B0%D0%BD%D0%B0%D0%BB%D0%B8%D0%B7_%D0%9F%D1%80%D0%B0%D0%BA%D1%82%D0%B8%D1%87%D0%B5%D1%81%D0%BA%D0%BE%D0%B5_%D0%B7%D0%B0%D0%B4%D0%B0%D0%BD%D0%B8%D0%B5_%D0%BA_%D1%83%D1%80%D0%BE%D0%BA%D1%83_7.ipynb\" target=\"_parent\"><img src=\"https://colab.research.google.com/assets/colab-badge.svg\" alt=\"Open In Colab\"/></a>"
      ]
    },
    {
      "cell_type": "markdown",
      "source": [
        "#Математический анализ\n",
        "\n",
        "## Практическое задание к уроку 7"
      ],
      "metadata": {
        "id": "9hWfVIcJjNNz"
      }
    },
    {
      "cell_type": "markdown",
      "metadata": {
        "id": "SmdURZ_OkVqQ"
      },
      "source": [
        "__1.__ Найти частные производные первого и второго порядка. Убедиться в равенстве смешанных производных.\n",
        "\n",
        "$$U=x^3+3xy^2+z^2-39x-36y+2z+26$$\n",
        "$$\\,$$\n",
        "$$U'_{x}=3x^2+3y^2+39 $$\n",
        "$$U'_{y} = 6xy-36 $$\n",
        "$$U'_{z} = 2z+2 $$\n",
        "$$\\,$$\n",
        "$$U''_{xx} = 6x $$\n",
        "$$U''_{yy} = 6x $$\n",
        "$$U''_{zz} = 2 $$\n",
        "$$\\,$$\n",
        "$$U''_{xy} = 6y $$\n",
        "$$U''_{xz} = 0 $$\n",
        "$$\\,$$\n",
        "$$U''_{yx} = 6y $$\n",
        "$$U''_{yz} = 0 $$\n",
        "$$\\,$$\n",
        "$$U''_{zx} = 0 $$\n",
        "$$U''_{zy} = 0 $$\n",
        "$$\\,$$\n",
        "\n"
      ]
    },
    {
      "cell_type": "markdown",
      "metadata": {
        "id": "cECfCSANkVqR"
      },
      "source": [
        "__2.__ Найти частные производные первого и второго порядка. Убедиться в равенстве смешанных производных.\n",
        "\n",
        "$$U=\\frac{256}{x}+\\frac{x^2}{y}+\\frac{y^2}{z}+z^2$$\n",
        "$$\\,$$\n",
        "$$U'_{x}=-256x^{-2}+ \\frac{2}{y} \\cdot x $$\n",
        "$$U'_{y} = -x^2 \\cdot y^{-2}+ \\frac{2}{z} \\cdot y $$\n",
        "$$U'_{z} = -y^2 \\cdot z^{-2}+2z $$\n",
        "$$\\,$$\n",
        "$$U''_{xx} = 512 \\cdot x^{-3} + \\frac{2}{y}$$\n",
        "$$U''_{yy} = 2x^2 \\cdot y^{-3} + \\frac{z}{2} $$\n",
        "$$U''_{zz} = 2y^2 \\cdot z^{-3} + 2 $$\n",
        "$$\\,$$\n",
        "$$U''_{xy} = -2x \\cdot y^{-2} $$\n",
        "$$U''_{xz} = 0 $$\n",
        "$$\\,$$\n",
        "$$U''_{yx} = -2x \\cdot y^{-2} $$\n",
        "$$U''_{yz} = -2y \\cdot z^{-2} $$\n",
        "$$\\,$$\n",
        "$$U''_{zx} = 0 $$\n",
        "$$U''_{zy} = -2y \\cdot z{-2} $$\n",
        "$$\\,$$"
      ]
    },
    {
      "cell_type": "markdown",
      "metadata": {
        "id": "DFrjdtbHkVqS"
      },
      "source": [
        "__3.__ Найти производную функции $U=x^2+y^2+z^2$ по направлению вектора $\\overrightarrow{c}(-9,8,-12)$ в точке $M(8,-12,9)$\n",
        "$$\\,$$\n",
        "$$U'_{\\overrightarrow{c}}=(\\overrightarrow{c}_{0}\\cdot \\mbox{grad}U)$$\n",
        "$$\\,$$\n",
        "$$|\\overrightarrow{c}|=\\sqrt{x^2_{0}+y^2_{0}+z^2_{0}}=\\sqrt{(-9)^2+8^2+(-12)^2}=\\sqrt{81+64+144}=\\sqrt{289}=17$$\n",
        "$$\\,$$\n",
        "Единичный вектор $\\overrightarrow{c}_{0}$:\n",
        "\n",
        "$$\\overrightarrow{c_{0}}=\\frac{\\overrightarrow{c}}{|\\overrightarrow{c}|}=\\Bigr(-\\frac{9}{17},\\frac{8}{17},-\\frac{12}{17}\\Bigl)$$\n",
        "\n",
        "Градиент в точке $M(8,-12,9)$.\n",
        "\n",
        "$$U'_{x}=2x$$\n",
        "\n",
        "$$U'_{y}=2y$$\n",
        "\n",
        "$$U'_{z}=2z$$\n",
        "\n",
        "$$\\mbox{grad}U=(16,-24,18)$$\n",
        "$$\\,$$\n",
        "\n",
        "$$U'_{\\overrightarrow{c}}=-\\frac{9}{17}\\cdot (16)+\\frac{8}{17}\\cdot (-24)-\\frac{12}{17}\\cdot 18=\\frac{-144-192-216}{17}=-\\frac{552}{17}$$\n",
        "$$\\,$$"
      ]
    },
    {
      "cell_type": "markdown",
      "metadata": {
        "id": "5la-eVLukVqT"
      },
      "source": [
        "__4.__ Найти производную функции $U=e^{x^2+y^2+z^2}$ по направлению вектора $\\overrightarrow{c}(4,-13,-16)$ в точке $L(-16,4,-13)$\n",
        "$$\\,$$\n",
        "$$U'_{\\overrightarrow{c}}=(\\overrightarrow{c}_{0}\\cdot \\mbox{grad}U)$$\n",
        "$$\\,$$\n",
        "$$|\\overrightarrow{c}|=\\sqrt{x^2_{0}+y^2_{0}+z^2_{0}}=\\sqrt{4^2+(-13)^2+(-16)^2}=\\sqrt{16+169+256}=\\sqrt{441}=21$$\n",
        "$$\\,$$\n",
        "Единичный вектор $\\overrightarrow{c}_{0}$:\n",
        "\n",
        "$$\\overrightarrow{c_{0}}=\\frac{\\overrightarrow{c}}{|\\overrightarrow{c}|}=\\Bigr(\\frac{4}{21},-\\frac{13}{21},-\\frac{16}{21}\\Bigl)$$\n",
        "\n",
        "Градиент в точке $M(-16,4,-13)$.\n",
        "\n",
        "$$U'_{x}=e^{x^2+y^2+z^2} \\cdot 2x$$\n",
        "\n",
        "$$U'_{y}=e^{x^2+y^2+z^2} \\cdot 2y$$\n",
        "\n",
        "$$U'_{z}=e^{x^2+y^2+z^2} \\cdot 2z$$\n",
        "\n",
        "$$\\mbox{grad}U=(-32e^{441}, \\, 8e^{441},\\,-26e^{441})$$\n",
        "$$\\,$$\n",
        "\n",
        "$$U'_{\\overrightarrow{c}}=\\frac{4}{21}\\cdot (-32 e^{441})-\\frac{13}{21}\\cdot (8e^{441})-\\frac{16}{21}\\cdot (-26e^{441})=\\frac{-128-104+416}{21} \\cdot e^{441} =\\frac{184}{21}e^{441}$$\n",
        "$$\\,$$"
      ]
    },
    {
      "cell_type": "markdown",
      "metadata": {
        "id": "Vlt8xLWmi5aM"
      },
      "source": [
        "__6.__ Исследовать на экстремум функцию:\n",
        "\n",
        "$$U=x^2y+\\frac{1}{3}y^3+2x^2+3y^2-1$$\n",
        "$$\\,$$\n",
        "Частные производные:\n",
        "\n",
        "$$\\begin{cases}\n",
        "   U'_{x}=2xy + 4x=0, \\\\\n",
        "   U'_{y}=x^2+y^2 + 6y=0 \n",
        "\\end{cases}$$\n",
        " \n",
        "$$ 2xy + 4x = 0$$\n",
        "$$ 2x(y+2x) = 0 $$\n",
        "$$ x = 0, \\,\\,\\, y = -2 $$\n",
        "$$\\, $$\n",
        "$$ x^2+y^2+6y = 0 $$\n",
        "$$ x = 0 ⇒ y = 0 \\,\\,\\, и \\,\\,\\, y = -6$$\n",
        "$$ y = -2 ⇒ x^2 + 4 - 12 = 0 ⇒ x^2 = 8$$\n",
        "$$ \\, $$\n",
        "Точки:\n",
        "$$(0, 0)$$\n",
        "$$(0, -6)$$\n",
        "$$(2\\sqrt{2}, -2)$$\n",
        "$$(-2\\sqrt{2}, -2)$$\n",
        "\n",
        "Вторые производные и матрицу Гёссе\n",
        " \n",
        "$$U''_{xx}=2y+4$$ $$U''_{xy}=U''_{yx}=2x$$  $$U''_{yy}=2y+6$$\n",
        " \n",
        " $$\\begin{pmatrix}\n",
        "2y+4 & 2x\\\\ \n",
        "2x & 2y+6\\\\\n",
        "\\end{pmatrix}$$\n",
        "\n",
        "Главные миноры \n",
        "$$\\Delta_{1}=U''_{xx}=2y+4$$\n",
        "\n",
        "$$\\Delta_{2}=\\begin{vmatrix}\n",
        "U''_{xx} & U''_{xy}\\\\ \n",
        "U''_{yx} & U''_{yy}\\\\\n",
        "\\end{vmatrix}=U''_{xx}\\cdot U''_{yy}-(U''_{xy})^2=(2y+4) \\cdot (2y+6) - 4x^2 $$\n",
        "\n",
        "Для точки $(0, 0)$:\n",
        "$$Δ_{1} = 2y+4 = 0 + 4 = 4>0$$\n",
        "$$Δ_{2} = (2y+4) \\cdot (2y+6) - 4x^2 = (0 + 4) \\cdot (0+6) - 0 = 24 >0$$\n",
        "\n",
        "Точка $(0, 0)$ - точка минимума\n",
        "\n",
        "Для точки $(0, -6)$:\n",
        "$$Δ_{1} = -12 + 4 = -8 < 0 $$\n",
        "$$Δ_{2} = (-12 + 4) \\cdot (-12- 6) - 0 = 48 >0$$\n",
        "\n",
        "Точка $(0, -6)$ - точка максимума\n",
        "\n",
        "\"Как правило дальнейшее иследование через матрицу Гёссе не имеет смысла. Но давайте пересобирем матрицу Гёссе\" - почему так? \n"
      ]
    }
  ]
}