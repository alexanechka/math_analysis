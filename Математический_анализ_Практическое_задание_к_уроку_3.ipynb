{
  "nbformat": 4,
  "nbformat_minor": 0,
  "metadata": {
    "colab": {
      "name": "Математический анализ. Практическое задание к уроку 3.ipynb",
      "provenance": [],
      "collapsed_sections": [],
      "authorship_tag": "ABX9TyPXjv7SIrH+CHqc14nW9rjF",
      "include_colab_link": true
    },
    "kernelspec": {
      "name": "python3",
      "display_name": "Python 3"
    },
    "language_info": {
      "name": "python"
    }
  },
  "cells": [
    {
      "cell_type": "markdown",
      "metadata": {
        "id": "view-in-github",
        "colab_type": "text"
      },
      "source": [
        "<a href=\"https://colab.research.google.com/github/alexanechka/math_analysis/blob/main/%D0%9C%D0%B0%D1%82%D0%B5%D0%BC%D0%B0%D1%82%D0%B8%D1%87%D0%B5%D1%81%D0%BA%D0%B8%D0%B9_%D0%B0%D0%BD%D0%B0%D0%BB%D0%B8%D0%B7_%D0%9F%D1%80%D0%B0%D0%BA%D1%82%D0%B8%D1%87%D0%B5%D1%81%D0%BA%D0%BE%D0%B5_%D0%B7%D0%B0%D0%B4%D0%B0%D0%BD%D0%B8%D0%B5_%D0%BA_%D1%83%D1%80%D0%BE%D0%BA%D1%83_3.ipynb\" target=\"_parent\"><img src=\"https://colab.research.google.com/assets/colab-badge.svg\" alt=\"Open In Colab\"/></a>"
      ]
    },
    {
      "cell_type": "markdown",
      "source": [
        "#Математический анализ\n",
        "\n",
        "## Практическое задание к уроку 3"
      ],
      "metadata": {
        "id": "LaJeHOmJjSeB"
      }
    },
    {
      "cell_type": "markdown",
      "source": [
        "__1.__ Найти предел последовательности:\n",
        "\n",
        "$$а)\\,\\,\\,\\,\\lim_{n\\to \\infty} \\frac{(23-2n^2)(3n^2+17)^2}{4n^6+n-1} = \\frac{12 }{ 4} = 3 $$\n",
        "\n",
        "$$(23-2n^2)(3n^2+17)(3n^2+17) \\Rightarrow 2n^2 \\cdot 3n^2 \\cdot 3n^2 \\Rightarrow 12 n^6$$\n",
        "$$ $$\n",
        "\n",
        "$$б)\\,\\,\\,\\,\\lim_{n\\to \\infty} \\frac{(97-2n)^3}{2n(3n^2+15)+8n} = 0$$\n",
        "\n",
        "$$(-2n)^3 = 8n^3  $$\n",
        "$$2n*3n^2 = 6n^4  $$\n",
        "$$ $$\n",
        "\n",
        "$$в)\\,\\,\\,\\,\\lim_{n\\to \\infty} \\frac{2n^3+13n(n+18)}{(27-n)(2n+19)^2} = \\frac\n",
        "{2}{4} = \\frac{1}{2}$$\n",
        "\n",
        "$$n\\cdot 2n\\cdot 2n = 4n^3 $$\n",
        "$$ $$\n",
        "\n",
        "$$г)\\,\\,\\,\\,\\lim_{n\\to \\infty} (\\sqrt{n^2+1}-n) = \\lim_{n\\to \\infty} (\\sqrt{n^2+1}-n) \\cdot \\frac{\\sqrt{n^2+1}+n}{\\sqrt{n^2+1}+n} = $$\n",
        "$$= \\lim_{n\\to \\infty}\\frac{ (n^2+1-n^2)}{\\sqrt{n^2+1}+n} = \\Bigl(\\frac{1}{\\infty}\\Bigr)=0$$\n",
        "$$ $$\n",
        "\n",
        "$$д)\\,\\,\\,\\,\\lim_{n\\to \\infty} \\frac{(-4)^n+5\\cdot7^n}{(-4)^{n-1}+7^{n+2}} = \\lim_{n\\to \\infty} \\frac{7^n((\\frac{-4}{7})^n+5)}{7^n((\\frac{-4}{7^2})^{n-1}+7^2)} = $$\n",
        "$$ = \\lim_{n\\to \\infty} \\frac{(\\frac{-4}{7})^n+5}{(\\frac{-4}{7^2})^{n-1}+7^2} = \\lim_{n\\to \\infty} \\frac{(\\frac{-4}{7})(\\frac{-4}{7})^{n-1}+5}{(\\frac{-4}{7^2})^{n-1}+7^2} = \\frac {\\frac{-4}{7}}{\\frac{1}{7}} = -4$$\n",
        "$$ $$\n",
        "\n",
        "$$e)^*\\,\\,\\,\\,\\lim_{n\\to \\infty} \\Bigl(\\frac{1}{1\\cdot2}+\\frac{1}{2\\cdot3}+\\frac{1}{3\\cdot4}+...+\\frac{1}{(n-1)\\cdot n}\\Bigr) = \\Bigl(\\frac{1}{\\infty}\\Bigr)=0$$"
      ],
      "metadata": {
        "id": "PduAoYSGjXQv"
      }
    },
    {
      "cell_type": "markdown",
      "source": [
        "__2.__ Представьте $1$ в виде суммы трех обыкновенных дробей с разными знаменателями и числителем равным $1$.\n",
        "\n",
        "$$1=\\frac{1}{6}+\\frac{1}{3}+\\frac{1}{2}=\\frac{1 + 2 + 3}{6}$$"
      ],
      "metadata": {
        "id": "57g7s2Rwj6Vy"
      }
    },
    {
      "cell_type": "code",
      "source": [
        "1/6+1/3+1/2"
      ],
      "metadata": {
        "colab": {
          "base_uri": "https://localhost:8080/"
        },
        "id": "5aAMj4STlOj1",
        "outputId": "7fd04e99-53cc-4009-fbab-3b3cb2894780"
      },
      "execution_count": null,
      "outputs": [
        {
          "output_type": "execute_result",
          "data": {
            "text/plain": [
              "1.0"
            ]
          },
          "metadata": {},
          "execution_count": 7
        }
      ]
    },
    {
      "cell_type": "markdown",
      "source": [
        "__3$^*$.__ Тоже задание, только в виде суммы шести дробей.\n",
        "\n",
        "$$1=\\frac{1}{24}+\\frac{1}{12}+\\frac{1}{8} +\\frac{1}{6}+\\frac{1}{4}+\\frac{1}{3}= \\frac{1+ 2 +3+4+6+8}{24}$$"
      ],
      "metadata": {
        "id": "5K1QTRM1j8Ds"
      }
    },
    {
      "cell_type": "code",
      "source": [
        "1/24+1/6+1/4+1/3+1/12+1/8"
      ],
      "metadata": {
        "colab": {
          "base_uri": "https://localhost:8080/"
        },
        "id": "x2rmZqDYnJRe",
        "outputId": "5dcd343f-24f4-412e-cf23-e3ca2d60f2a3"
      },
      "execution_count": null,
      "outputs": [
        {
          "output_type": "execute_result",
          "data": {
            "text/plain": [
              "1.0"
            ]
          },
          "metadata": {},
          "execution_count": 11
        }
      ]
    },
    {
      "cell_type": "markdown",
      "source": [
        "__4.__ Пользуясь критерием Коши, докажите сходимость последовательности:\n",
        "\n",
        "$$a_n=\\frac{\\sin1}{2}+\\frac{\\sin2}{2^2}+\\frac{\\sin3}{2^3}+..\\frac{\\sin n}{2^n}\\,\\,\\,\\,\\,\\Rightarrow$$\n",
        "\n",
        "$$\\Bigl\\{a_n\\Bigr\\}_{n=1}^\\infty=\\Bigl\\{\\frac{\\sin1}{2}, \\frac{\\sin1}{2}+\\frac{\\sin2}{2^2}, ..., a_n,...\\Bigr\\}$$\n",
        "\n",
        "\n",
        "$^*$ Какой член последовательности можно взять в качестве предела с точностью $\\varepsilon=10^{-7}$?"
      ],
      "metadata": {
        "id": "dx2YyFWhkDm8"
      }
    },
    {
      "cell_type": "markdown",
      "source": [
        "Для любого $\\varepsilon>0$ существует номер $N(\\varepsilon)$, такой\n",
        "что, для любого $n>N(\\varepsilon)$ и любого $k\\geq1$ верно неравенство $|a_n-a_{n+k}|<\\varepsilon$.\n",
        "\n",
        "$ \\sin n$ может принимать значения от 0 до 1, поэтому подменим $ \\sin n$ на 1.\n",
        "\n",
        "\n",
        "$$|a_n-a_{n+k}|=\\Bigl|\\frac{1}{2^n}-\\bigl(\\frac{1}{2^n}+ \\frac{1}{2^{n+k}}\\bigr)\\Bigr|=$$\n",
        "\n",
        "$$=\\frac{1}{2^n}\\cdot\\frac{1}{2^k}<\\frac{1}{2^n}<\\frac{1}{2^{N(\\varepsilon)}}=\\varepsilon$$\n",
        "\n",
        "Тот факт, что нам удалось найти связть между $N(\\varepsilon)$ уже говори о том, что предел существует."
      ],
      "metadata": {
        "id": "1wR-NVrRX5YG"
      }
    },
    {
      "cell_type": "code",
      "source": [
        "import math\n",
        "\n",
        "eps = 10**(-7)\n",
        "lim = 1\n",
        "\n",
        "n = 2\n",
        "a2 = math.sin(1) / 2\n",
        "\n",
        "while lim > eps:\n",
        "    a1 = a2\n",
        "    a2 = a1 + (math.sin(n)) / (2 ** n)\n",
        "    lim = abs(a1 - a2)\n",
        "    n += 1\n",
        "print (f'Численное значение предела: {a2}\\n',f'Погрешность: {lim}\\n', f'Число шагов: {n-1}')"
      ],
      "metadata": {
        "colab": {
          "base_uri": "https://localhost:8080/"
        },
        "id": "jY4J4Kl5W09f",
        "outputId": "ed7a1d7d-cc32-449b-e332-0080977c0923"
      },
      "execution_count": null,
      "outputs": [
        {
          "output_type": "stream",
          "name": "stdout",
          "text": [
            "Численное значение предела: 0.5928377620958291\n",
            " Погрешность: 2.110316588144201e-09\n",
            " Число шагов: 22\n"
          ]
        }
      ]
    }
  ]
}