{
  "nbformat": 4,
  "nbformat_minor": 0,
  "metadata": {
    "colab": {
      "name": "Математический анализ. Практическое задание к уроку 3.ipynb",
      "provenance": [],
      "collapsed_sections": [],
      "authorship_tag": "ABX9TyNMBdMtRE4A0sGkUH/F8QMb",
      "include_colab_link": true
    },
    "kernelspec": {
      "name": "python3",
      "display_name": "Python 3"
    },
    "language_info": {
      "name": "python"
    }
  },
  "cells": [
    {
      "cell_type": "markdown",
      "metadata": {
        "id": "view-in-github",
        "colab_type": "text"
      },
      "source": [
        "<a href=\"https://colab.research.google.com/github/alexanechka/math_analysis/blob/main/%D0%9C%D0%B0%D1%82%D0%B5%D0%BC%D0%B0%D1%82%D0%B8%D1%87%D0%B5%D1%81%D0%BA%D0%B8%D0%B9_%D0%B0%D0%BD%D0%B0%D0%BB%D0%B8%D0%B7_%D0%9F%D1%80%D0%B0%D0%BA%D1%82%D0%B8%D1%87%D0%B5%D1%81%D0%BA%D0%BE%D0%B5_%D0%B7%D0%B0%D0%B4%D0%B0%D0%BD%D0%B8%D0%B5_%D0%BA_%D1%83%D1%80%D0%BE%D0%BA%D1%83_3.ipynb\" target=\"_parent\"><img src=\"https://colab.research.google.com/assets/colab-badge.svg\" alt=\"Open In Colab\"/></a>"
      ]
    },
    {
      "cell_type": "markdown",
      "source": [
        "#Математический анализ\n",
        "\n",
        "## Практическое задание к уроку 3"
      ],
      "metadata": {
        "id": "LaJeHOmJjSeB"
      }
    },
    {
      "cell_type": "markdown",
      "source": [
        "__1.__ Найти предел последовательности:\n",
        "\n",
        "$$а)\\,\\,\\,\\,\\lim_{n\\to \\infty} \\frac{(23-2n^2)(3n^2+17)^2}{4n^6+n-1} = \\frac{12 }{ 4} = 3 $$\n",
        "\n",
        "$$(23-2n^2)(3n^2+17)(3n^2+17) \\Rightarrow 2n^2 \\cdot 3n^2 \\cdot 3n^2 \\Rightarrow 12 n^6$$\n",
        "$$ $$\n",
        "\n",
        "$$б)\\,\\,\\,\\,\\lim_{n\\to \\infty} \\frac{(97-2n)^3}{2n(3n^2+15)+8n} = 0$$\n",
        "\n",
        "$$(-2n)^3 = 8n^3  $$\n",
        "$$2n*3n^2 = 6n^4  $$\n",
        "$$ $$\n",
        "\n",
        "$$в)\\,\\,\\,\\,\\lim_{n\\to \\infty} \\frac{2n^3+13n(n+18)}{(27-n)(2n+19)^2} = \\frac\n",
        "{2}{4} = \\frac{1}{2}$$\n",
        "\n",
        "$$n\\cdot 2n\\cdot 2n = 4n^3 $$\n",
        "$$ $$\n",
        "\n",
        "$$г)\\,\\,\\,\\,\\lim_{n\\to \\infty} (\\sqrt{n^2+1}-n) = \\lim_{n\\to \\infty} (\\sqrt{n^2+1}-n) \\cdot \\frac{\\sqrt{n^2+1}+n}{\\sqrt{n^2+1}+n} = $$\n",
        "$$= \\lim_{n\\to \\infty}\\frac{ (n^2+1-n^2)}{\\sqrt{n^2+1}+n} = \\Bigl(\\frac{1}{\\infty}\\Bigr)=0$$\n",
        "$$ $$\n",
        "\n",
        "$$д)\\,\\,\\,\\,\\lim_{n\\to \\infty} \\frac{(-4)^n+5\\cdot7^n}{(-4)^{n-1}+7^{n+2}} = \\lim_{n\\to \\infty} \\frac{7^n((\\frac{-4}{7})^n+5)}{7^n((\\frac{-4}{7^2})^{n-1}+7^2)} = $$\n",
        "$$ = \\lim_{n\\to \\infty} \\frac{(\\frac{-4}{7})^n+5}{(\\frac{-4}{7^2})^{n-1}+7^2} = \\lim_{n\\to \\infty} \\frac{(\\frac{-4}{7})(\\frac{-4}{7})^{n-1}+5}{(\\frac{-4}{7^2})^{n-1}+7^2} = \\frac {\\frac{-4}{7}}{\\frac{1}{7}} = -4$$\n",
        "$$ $$\n",
        "\n",
        "$$e)^*\\,\\,\\,\\,\\lim_{n\\to \\infty} \\Bigl(\\frac{1}{1\\cdot2}+\\frac{1}{2\\cdot3}+\\frac{1}{3\\cdot4}+...+\\frac{1}{(n-1)\\cdot n}\\Bigr) = \\Bigl(\\frac{1}{\\infty}\\Bigr)=0$$"
      ],
      "metadata": {
        "id": "PduAoYSGjXQv"
      }
    },
    {
      "cell_type": "code",
      "source": [
        "from sympy import *\n",
        "n=Symbol('n')\n",
        "a = ((-4)**n + 5 * 7**n) / ( (-4)**(n-1) + 7**(n+2) )\n",
        "a"
      ],
      "metadata": {
        "colab": {
          "base_uri": "https://localhost:8080/",
          "height": 61
        },
        "id": "tpjws4HiVIp6",
        "outputId": "8424d0d8-f6e1-4138-862d-d5985ed0d038"
      },
      "execution_count": 14,
      "outputs": [
        {
          "output_type": "execute_result",
          "data": {
            "text/latex": "$\\displaystyle \\frac{\\left(-4\\right)^{n} + 5 \\cdot 7^{n}}{\\left(-4\\right)^{n - 1} + 7^{n + 2}}$",
            "text/plain": [
              "((-4)**n + 5*7**n)/((-4)**(n - 1) + 7**(n + 2))"
            ]
          },
          "metadata": {},
          "execution_count": 14
        }
      ]
    },
    {
      "cell_type": "code",
      "source": [
        "limit(a, n, oo)"
      ],
      "metadata": {
        "colab": {
          "base_uri": "https://localhost:8080/",
          "height": 323
        },
        "id": "ibdrfSRVVtVv",
        "outputId": "2aa67a6a-4cb3-4520-b5b2-9b80d6e65c56"
      },
      "execution_count": 16,
      "outputs": [
        {
          "output_type": "error",
          "ename": "NotImplementedError",
          "evalue": "ignored",
          "traceback": [
            "\u001b[0;31m---------------------------------------------------------------------------\u001b[0m",
            "\u001b[0;31mNotImplementedError\u001b[0m                       Traceback (most recent call last)",
            "\u001b[0;32m<ipython-input-16-f783845d1c4b>\u001b[0m in \u001b[0;36m<module>\u001b[0;34m()\u001b[0m\n\u001b[0;32m----> 1\u001b[0;31m \u001b[0mlimit\u001b[0m\u001b[0;34m(\u001b[0m\u001b[0ma\u001b[0m\u001b[0;34m,\u001b[0m \u001b[0mn\u001b[0m\u001b[0;34m,\u001b[0m \u001b[0moo\u001b[0m\u001b[0;34m)\u001b[0m\u001b[0;34m\u001b[0m\u001b[0;34m\u001b[0m\u001b[0m\n\u001b[0m",
            "\u001b[0;32m/usr/local/lib/python3.7/dist-packages/sympy/series/limits.py\u001b[0m in \u001b[0;36mlimit\u001b[0;34m(e, z, z0, dir)\u001b[0m\n\u001b[1;32m     63\u001b[0m     \"\"\"\n\u001b[1;32m     64\u001b[0m \u001b[0;34m\u001b[0m\u001b[0m\n\u001b[0;32m---> 65\u001b[0;31m     \u001b[0;32mreturn\u001b[0m \u001b[0mLimit\u001b[0m\u001b[0;34m(\u001b[0m\u001b[0me\u001b[0m\u001b[0;34m,\u001b[0m \u001b[0mz\u001b[0m\u001b[0;34m,\u001b[0m \u001b[0mz0\u001b[0m\u001b[0;34m,\u001b[0m \u001b[0mdir\u001b[0m\u001b[0;34m)\u001b[0m\u001b[0;34m.\u001b[0m\u001b[0mdoit\u001b[0m\u001b[0;34m(\u001b[0m\u001b[0mdeep\u001b[0m\u001b[0;34m=\u001b[0m\u001b[0;32mFalse\u001b[0m\u001b[0;34m)\u001b[0m\u001b[0;34m\u001b[0m\u001b[0;34m\u001b[0m\u001b[0m\n\u001b[0m\u001b[1;32m     66\u001b[0m \u001b[0;34m\u001b[0m\u001b[0m\n\u001b[1;32m     67\u001b[0m \u001b[0;34m\u001b[0m\u001b[0m\n",
            "\u001b[0;32m/usr/local/lib/python3.7/dist-packages/sympy/series/limits.py\u001b[0m in \u001b[0;36mdoit\u001b[0;34m(self, **hints)\u001b[0m\n\u001b[1;32m    329\u001b[0m                             % (l, r))\n\u001b[1;32m    330\u001b[0m             \u001b[0;32melse\u001b[0m\u001b[0;34m:\u001b[0m\u001b[0;34m\u001b[0m\u001b[0;34m\u001b[0m\u001b[0m\n\u001b[0;32m--> 331\u001b[0;31m                 \u001b[0mr\u001b[0m \u001b[0;34m=\u001b[0m \u001b[0mgruntz\u001b[0m\u001b[0;34m(\u001b[0m\u001b[0me\u001b[0m\u001b[0;34m,\u001b[0m \u001b[0mz\u001b[0m\u001b[0;34m,\u001b[0m \u001b[0mz0\u001b[0m\u001b[0;34m,\u001b[0m \u001b[0mdir\u001b[0m\u001b[0;34m)\u001b[0m\u001b[0;34m\u001b[0m\u001b[0;34m\u001b[0m\u001b[0m\n\u001b[0m\u001b[1;32m    332\u001b[0m             \u001b[0;32mif\u001b[0m \u001b[0mr\u001b[0m \u001b[0;32mis\u001b[0m \u001b[0mS\u001b[0m\u001b[0;34m.\u001b[0m\u001b[0mNaN\u001b[0m \u001b[0;32mor\u001b[0m \u001b[0ml\u001b[0m \u001b[0;32mis\u001b[0m \u001b[0mS\u001b[0m\u001b[0;34m.\u001b[0m\u001b[0mNaN\u001b[0m\u001b[0;34m:\u001b[0m\u001b[0;34m\u001b[0m\u001b[0;34m\u001b[0m\u001b[0m\n\u001b[1;32m    333\u001b[0m                 \u001b[0;32mraise\u001b[0m \u001b[0mPoleError\u001b[0m\u001b[0;34m(\u001b[0m\u001b[0;34m)\u001b[0m\u001b[0;34m\u001b[0m\u001b[0;34m\u001b[0m\u001b[0m\n",
            "\u001b[0;32m/usr/local/lib/python3.7/dist-packages/sympy/series/gruntz.py\u001b[0m in \u001b[0;36mgruntz\u001b[0;34m(e, z, z0, dir)\u001b[0m\n\u001b[1;32m    670\u001b[0m \u001b[0;34m\u001b[0m\u001b[0m\n\u001b[1;32m    671\u001b[0m     \u001b[0;32mtry\u001b[0m\u001b[0;34m:\u001b[0m\u001b[0;34m\u001b[0m\u001b[0;34m\u001b[0m\u001b[0m\n\u001b[0;32m--> 672\u001b[0;31m         \u001b[0mr\u001b[0m \u001b[0;34m=\u001b[0m \u001b[0mlimitinf\u001b[0m\u001b[0;34m(\u001b[0m\u001b[0me0\u001b[0m\u001b[0;34m,\u001b[0m \u001b[0mz\u001b[0m\u001b[0;34m)\u001b[0m\u001b[0;34m\u001b[0m\u001b[0;34m\u001b[0m\u001b[0m\n\u001b[0m\u001b[1;32m    673\u001b[0m     \u001b[0;32mexcept\u001b[0m \u001b[0mValueError\u001b[0m\u001b[0;34m:\u001b[0m\u001b[0;34m\u001b[0m\u001b[0;34m\u001b[0m\u001b[0m\n\u001b[1;32m    674\u001b[0m         \u001b[0mr\u001b[0m \u001b[0;34m=\u001b[0m \u001b[0mlimitinf\u001b[0m\u001b[0;34m(\u001b[0m\u001b[0me0\u001b[0m\u001b[0;34m,\u001b[0m \u001b[0mz\u001b[0m\u001b[0;34m,\u001b[0m \u001b[0mleadsimp\u001b[0m\u001b[0;34m=\u001b[0m\u001b[0;32mTrue\u001b[0m\u001b[0;34m)\u001b[0m\u001b[0;34m\u001b[0m\u001b[0;34m\u001b[0m\u001b[0m\n",
            "\u001b[0;32m/usr/local/lib/python3.7/dist-packages/sympy/core/cache.py\u001b[0m in \u001b[0;36mwrapper\u001b[0;34m(*args, **kwargs)\u001b[0m\n\u001b[1;32m     70\u001b[0m         \u001b[0;32mdef\u001b[0m \u001b[0mwrapper\u001b[0m\u001b[0;34m(\u001b[0m\u001b[0;34m*\u001b[0m\u001b[0margs\u001b[0m\u001b[0;34m,\u001b[0m \u001b[0;34m**\u001b[0m\u001b[0mkwargs\u001b[0m\u001b[0;34m)\u001b[0m\u001b[0;34m:\u001b[0m\u001b[0;34m\u001b[0m\u001b[0;34m\u001b[0m\u001b[0m\n\u001b[1;32m     71\u001b[0m             \u001b[0;32mtry\u001b[0m\u001b[0;34m:\u001b[0m\u001b[0;34m\u001b[0m\u001b[0;34m\u001b[0m\u001b[0m\n\u001b[0;32m---> 72\u001b[0;31m                 \u001b[0mretval\u001b[0m \u001b[0;34m=\u001b[0m \u001b[0mcfunc\u001b[0m\u001b[0;34m(\u001b[0m\u001b[0;34m*\u001b[0m\u001b[0margs\u001b[0m\u001b[0;34m,\u001b[0m \u001b[0;34m**\u001b[0m\u001b[0mkwargs\u001b[0m\u001b[0;34m)\u001b[0m\u001b[0;34m\u001b[0m\u001b[0;34m\u001b[0m\u001b[0m\n\u001b[0m\u001b[1;32m     73\u001b[0m             \u001b[0;32mexcept\u001b[0m \u001b[0mTypeError\u001b[0m\u001b[0;34m:\u001b[0m\u001b[0;34m\u001b[0m\u001b[0;34m\u001b[0m\u001b[0m\n\u001b[1;32m     74\u001b[0m                 \u001b[0mretval\u001b[0m \u001b[0;34m=\u001b[0m \u001b[0mfunc\u001b[0m\u001b[0;34m(\u001b[0m\u001b[0;34m*\u001b[0m\u001b[0margs\u001b[0m\u001b[0;34m,\u001b[0m \u001b[0;34m**\u001b[0m\u001b[0mkwargs\u001b[0m\u001b[0;34m)\u001b[0m\u001b[0;34m\u001b[0m\u001b[0;34m\u001b[0m\u001b[0m\n",
            "\u001b[0;32m/usr/local/lib/python3.7/dist-packages/sympy/series/gruntz.py\u001b[0m in \u001b[0;36mlimitinf\u001b[0;34m(e, x, leadsimp)\u001b[0m\n\u001b[1;32m    438\u001b[0m     \u001b[0me\u001b[0m \u001b[0;34m=\u001b[0m \u001b[0me\u001b[0m\u001b[0;34m.\u001b[0m\u001b[0mrewrite\u001b[0m\u001b[0;34m(\u001b[0m\u001b[0;34m'tractable'\u001b[0m\u001b[0;34m,\u001b[0m \u001b[0mdeep\u001b[0m\u001b[0;34m=\u001b[0m\u001b[0;32mTrue\u001b[0m\u001b[0;34m,\u001b[0m \u001b[0mlimitvar\u001b[0m\u001b[0;34m=\u001b[0m\u001b[0mx\u001b[0m\u001b[0;34m)\u001b[0m\u001b[0;34m\u001b[0m\u001b[0;34m\u001b[0m\u001b[0m\n\u001b[1;32m    439\u001b[0m     \u001b[0me\u001b[0m \u001b[0;34m=\u001b[0m \u001b[0mpowdenest\u001b[0m\u001b[0;34m(\u001b[0m\u001b[0me\u001b[0m\u001b[0;34m)\u001b[0m\u001b[0;34m\u001b[0m\u001b[0;34m\u001b[0m\u001b[0m\n\u001b[0;32m--> 440\u001b[0;31m     \u001b[0mc0\u001b[0m\u001b[0;34m,\u001b[0m \u001b[0me0\u001b[0m \u001b[0;34m=\u001b[0m \u001b[0mmrv_leadterm\u001b[0m\u001b[0;34m(\u001b[0m\u001b[0me\u001b[0m\u001b[0;34m,\u001b[0m \u001b[0mx\u001b[0m\u001b[0;34m)\u001b[0m\u001b[0;34m\u001b[0m\u001b[0;34m\u001b[0m\u001b[0m\n\u001b[0m\u001b[1;32m    441\u001b[0m     \u001b[0msig\u001b[0m \u001b[0;34m=\u001b[0m \u001b[0msign\u001b[0m\u001b[0;34m(\u001b[0m\u001b[0me0\u001b[0m\u001b[0;34m,\u001b[0m \u001b[0mx\u001b[0m\u001b[0;34m)\u001b[0m\u001b[0;34m\u001b[0m\u001b[0;34m\u001b[0m\u001b[0m\n\u001b[1;32m    442\u001b[0m     \u001b[0;32mif\u001b[0m \u001b[0msig\u001b[0m \u001b[0;34m==\u001b[0m \u001b[0;36m1\u001b[0m\u001b[0;34m:\u001b[0m\u001b[0;34m\u001b[0m\u001b[0;34m\u001b[0m\u001b[0m\n",
            "\u001b[0;32m/usr/local/lib/python3.7/dist-packages/sympy/core/cache.py\u001b[0m in \u001b[0;36mwrapper\u001b[0;34m(*args, **kwargs)\u001b[0m\n\u001b[1;32m     70\u001b[0m         \u001b[0;32mdef\u001b[0m \u001b[0mwrapper\u001b[0m\u001b[0;34m(\u001b[0m\u001b[0;34m*\u001b[0m\u001b[0margs\u001b[0m\u001b[0;34m,\u001b[0m \u001b[0;34m**\u001b[0m\u001b[0mkwargs\u001b[0m\u001b[0;34m)\u001b[0m\u001b[0;34m:\u001b[0m\u001b[0;34m\u001b[0m\u001b[0;34m\u001b[0m\u001b[0m\n\u001b[1;32m     71\u001b[0m             \u001b[0;32mtry\u001b[0m\u001b[0;34m:\u001b[0m\u001b[0;34m\u001b[0m\u001b[0;34m\u001b[0m\u001b[0m\n\u001b[0;32m---> 72\u001b[0;31m                 \u001b[0mretval\u001b[0m \u001b[0;34m=\u001b[0m \u001b[0mcfunc\u001b[0m\u001b[0;34m(\u001b[0m\u001b[0;34m*\u001b[0m\u001b[0margs\u001b[0m\u001b[0;34m,\u001b[0m \u001b[0;34m**\u001b[0m\u001b[0mkwargs\u001b[0m\u001b[0;34m)\u001b[0m\u001b[0;34m\u001b[0m\u001b[0;34m\u001b[0m\u001b[0m\n\u001b[0m\u001b[1;32m     73\u001b[0m             \u001b[0;32mexcept\u001b[0m \u001b[0mTypeError\u001b[0m\u001b[0;34m:\u001b[0m\u001b[0;34m\u001b[0m\u001b[0;34m\u001b[0m\u001b[0m\n\u001b[1;32m     74\u001b[0m                 \u001b[0mretval\u001b[0m \u001b[0;34m=\u001b[0m \u001b[0mfunc\u001b[0m\u001b[0;34m(\u001b[0m\u001b[0;34m*\u001b[0m\u001b[0margs\u001b[0m\u001b[0;34m,\u001b[0m \u001b[0;34m**\u001b[0m\u001b[0mkwargs\u001b[0m\u001b[0;34m)\u001b[0m\u001b[0;34m\u001b[0m\u001b[0;34m\u001b[0m\u001b[0m\n",
            "\u001b[0;32m/usr/local/lib/python3.7/dist-packages/sympy/series/gruntz.py\u001b[0m in \u001b[0;36mmrv_leadterm\u001b[0;34m(e, x)\u001b[0m\n\u001b[1;32m    522\u001b[0m     \u001b[0;31m#\u001b[0m\u001b[0;34m\u001b[0m\u001b[0;34m\u001b[0m\u001b[0;34m\u001b[0m\u001b[0m\n\u001b[1;32m    523\u001b[0m     \u001b[0mw\u001b[0m \u001b[0;34m=\u001b[0m \u001b[0mDummy\u001b[0m\u001b[0;34m(\u001b[0m\u001b[0;34m\"w\"\u001b[0m\u001b[0;34m,\u001b[0m \u001b[0mreal\u001b[0m\u001b[0;34m=\u001b[0m\u001b[0;32mTrue\u001b[0m\u001b[0;34m,\u001b[0m \u001b[0mpositive\u001b[0m\u001b[0;34m=\u001b[0m\u001b[0;32mTrue\u001b[0m\u001b[0;34m)\u001b[0m\u001b[0;34m\u001b[0m\u001b[0;34m\u001b[0m\u001b[0m\n\u001b[0;32m--> 524\u001b[0;31m     \u001b[0mf\u001b[0m\u001b[0;34m,\u001b[0m \u001b[0mlogw\u001b[0m \u001b[0;34m=\u001b[0m \u001b[0mrewrite\u001b[0m\u001b[0;34m(\u001b[0m\u001b[0mexps\u001b[0m\u001b[0;34m,\u001b[0m \u001b[0mOmega\u001b[0m\u001b[0;34m,\u001b[0m \u001b[0mx\u001b[0m\u001b[0;34m,\u001b[0m \u001b[0mw\u001b[0m\u001b[0;34m)\u001b[0m\u001b[0;34m\u001b[0m\u001b[0;34m\u001b[0m\u001b[0m\n\u001b[0m\u001b[1;32m    525\u001b[0m     \u001b[0mseries\u001b[0m \u001b[0;34m=\u001b[0m \u001b[0mcalculate_series\u001b[0m\u001b[0;34m(\u001b[0m\u001b[0mf\u001b[0m\u001b[0;34m,\u001b[0m \u001b[0mw\u001b[0m\u001b[0;34m,\u001b[0m \u001b[0mlogx\u001b[0m\u001b[0;34m=\u001b[0m\u001b[0mlogw\u001b[0m\u001b[0;34m)\u001b[0m\u001b[0;34m\u001b[0m\u001b[0;34m\u001b[0m\u001b[0m\n\u001b[1;32m    526\u001b[0m     \u001b[0;32mreturn\u001b[0m \u001b[0mseries\u001b[0m\u001b[0;34m.\u001b[0m\u001b[0mleadterm\u001b[0m\u001b[0;34m(\u001b[0m\u001b[0mw\u001b[0m\u001b[0;34m)\u001b[0m\u001b[0;34m\u001b[0m\u001b[0;34m\u001b[0m\u001b[0m\n",
            "\u001b[0;32m/usr/local/lib/python3.7/dist-packages/sympy/series/gruntz.py\u001b[0m in \u001b[0;36mrewrite\u001b[0;34m(e, Omega, x, wsym)\u001b[0m\n\u001b[1;32m    594\u001b[0m         \u001b[0msig\u001b[0m \u001b[0;34m=\u001b[0m \u001b[0msign\u001b[0m\u001b[0;34m(\u001b[0m\u001b[0mg\u001b[0m\u001b[0;34m.\u001b[0m\u001b[0margs\u001b[0m\u001b[0;34m[\u001b[0m\u001b[0;36m0\u001b[0m\u001b[0;34m]\u001b[0m\u001b[0;34m,\u001b[0m \u001b[0mx\u001b[0m\u001b[0;34m)\u001b[0m\u001b[0;34m\u001b[0m\u001b[0;34m\u001b[0m\u001b[0m\n\u001b[1;32m    595\u001b[0m         \u001b[0;32mif\u001b[0m \u001b[0msig\u001b[0m \u001b[0;34m!=\u001b[0m \u001b[0;36m1\u001b[0m \u001b[0;32mand\u001b[0m \u001b[0msig\u001b[0m \u001b[0;34m!=\u001b[0m \u001b[0;34m-\u001b[0m\u001b[0;36m1\u001b[0m\u001b[0;34m:\u001b[0m\u001b[0;34m\u001b[0m\u001b[0;34m\u001b[0m\u001b[0m\n\u001b[0;32m--> 596\u001b[0;31m             \u001b[0;32mraise\u001b[0m \u001b[0mNotImplementedError\u001b[0m\u001b[0;34m(\u001b[0m\u001b[0;34m'Result depends on the sign of %s'\u001b[0m \u001b[0;34m%\u001b[0m \u001b[0msig\u001b[0m\u001b[0;34m)\u001b[0m\u001b[0;34m\u001b[0m\u001b[0;34m\u001b[0m\u001b[0m\n\u001b[0m\u001b[1;32m    597\u001b[0m     \u001b[0;32mif\u001b[0m \u001b[0msig\u001b[0m \u001b[0;34m==\u001b[0m \u001b[0;36m1\u001b[0m\u001b[0;34m:\u001b[0m\u001b[0;34m\u001b[0m\u001b[0;34m\u001b[0m\u001b[0m\n\u001b[1;32m    598\u001b[0m         \u001b[0mwsym\u001b[0m \u001b[0;34m=\u001b[0m \u001b[0;36m1\u001b[0m\u001b[0;34m/\u001b[0m\u001b[0mwsym\u001b[0m  \u001b[0;31m# if g goes to oo, substitute 1/w\u001b[0m\u001b[0;34m\u001b[0m\u001b[0;34m\u001b[0m\u001b[0m\n",
            "\u001b[0;31mNotImplementedError\u001b[0m: Result depends on the sign of sign(log(4) + I*pi)"
          ]
        }
      ]
    },
    {
      "cell_type": "markdown",
      "source": [
        "__2.__ Представьте $1$ в виде суммы трех обыкновенных дробей с разными знаменателями и числителем равным $1$.\n",
        "\n",
        "$$1=\\frac{1}{6}+\\frac{1}{3}+\\frac{1}{2}=\\frac{1 + 2 + 3}{6}$$"
      ],
      "metadata": {
        "id": "57g7s2Rwj6Vy"
      }
    },
    {
      "cell_type": "code",
      "source": [
        "1/6+1/3+1/2"
      ],
      "metadata": {
        "colab": {
          "base_uri": "https://localhost:8080/"
        },
        "id": "5aAMj4STlOj1",
        "outputId": "7fd04e99-53cc-4009-fbab-3b3cb2894780"
      },
      "execution_count": 7,
      "outputs": [
        {
          "output_type": "execute_result",
          "data": {
            "text/plain": [
              "1.0"
            ]
          },
          "metadata": {},
          "execution_count": 7
        }
      ]
    },
    {
      "cell_type": "markdown",
      "source": [
        "__3$^*$.__ Тоже задание, только в виде суммы шести дробей.\n",
        "\n",
        "$$1=\\frac{1}{24}+\\frac{1}{12}+\\frac{1}{8} +\\frac{1}{6}+\\frac{1}{4}+\\frac{1}{3}= \\frac{1+ 2 +3+4+6+8}{24}$$"
      ],
      "metadata": {
        "id": "5K1QTRM1j8Ds"
      }
    },
    {
      "cell_type": "code",
      "source": [
        "1/24+1/6+1/4+1/3+1/12+1/8"
      ],
      "metadata": {
        "colab": {
          "base_uri": "https://localhost:8080/"
        },
        "id": "x2rmZqDYnJRe",
        "outputId": "5dcd343f-24f4-412e-cf23-e3ca2d60f2a3"
      },
      "execution_count": 11,
      "outputs": [
        {
          "output_type": "execute_result",
          "data": {
            "text/plain": [
              "1.0"
            ]
          },
          "metadata": {},
          "execution_count": 11
        }
      ]
    },
    {
      "cell_type": "markdown",
      "source": [
        "__4.__ Пользуясь критерием Коши, докажите сходимость последовательности:\n",
        "\n",
        "$$a_n=\\frac{\\sin1}{2}+\\frac{\\sin2}{2^2}+\\frac{\\sin3}{2^3}+..\\frac{\\sin n}{2^n}\\,\\,\\,\\,\\,\\Rightarrow$$\n",
        "\n",
        "$$\\Bigl\\{a_n\\Bigr\\}_{n=1}^\\infty=\\Bigl\\{\\frac{\\sin1}{2}, \\frac{\\sin1}{2}+\\frac{\\sin2}{2^2}, ..., a_n,...\\Bigr\\}$$\n",
        "\n",
        "\n",
        "$^*$ Какой член последовательности можно взять в качестве предела с точностью $\\varepsilon=10^{-7}$?"
      ],
      "metadata": {
        "id": "dx2YyFWhkDm8"
      }
    },
    {
      "cell_type": "markdown",
      "source": [
        ""
      ],
      "metadata": {
        "id": "1wR-NVrRX5YG"
      }
    },
    {
      "cell_type": "code",
      "source": [
        "eps = 10**(-7)\n",
        "lim = 1\n",
        "\n",
        "n = 2\n",
        "a2 = sin(1) / 2\n",
        "\n",
        "while lim > eps:\n",
        "    a1 = a2\n",
        "    a2 = a1 + (sin(n)) / (2 ** n)\n",
        "    lim = abs(a1 - a2)\n",
        "    n += 1\n",
        "print (f'Численное значение предела: {a2}\\n',f'Погрешность: {lim}\\n', f'Число шагов: {n-1}')"
      ],
      "metadata": {
        "colab": {
          "base_uri": "https://localhost:8080/"
        },
        "id": "jY4J4Kl5W09f",
        "outputId": "682c7a6b-0cf0-4eb1-93a7-716d42805452"
      },
      "execution_count": 20,
      "outputs": [
        {
          "output_type": "stream",
          "name": "stdout",
          "text": [
            "Численное значение предела: sin(4)/16 + sin(5)/32 + sin(6)/64 + sin(10)/1024 + sin(11)/2048 + sin(12)/4096 + sin(17)/131072 + sin(16)/65536 + sin(18)/262144 + sin(22)/4194304 + sin(19)/524288 + sin(21)/2097152 + sin(20)/1048576 + sin(15)/32768 + sin(13)/8192 + sin(14)/16384 + sin(9)/512 + sin(8)/256 + sin(7)/128 + sin(3)/8 + sin(2)/4 + sin(1)/2\n",
            " Погрешность: -sin(22)/4194304\n",
            " Число шагов: 22\n"
          ]
        }
      ]
    },
    {
      "cell_type": "markdown",
      "source": [
        "__5$^*$.__  Пользуясь критерием Коши, докажите расходимость последовательности:\n",
        "\n",
        "$$b_n=1+\\frac{1}{2}+\\frac{1}{3}+..\\frac{1}{n}\\,\\,\\,\\,\\,\\Rightarrow$$\n",
        "\n",
        "$$\\Bigl\\{b_n\\Bigr\\}_{n=1}^\\infty=\\Bigl\\{1, 1+\\frac{1}{2},1+\\frac{1}{2}+\\frac{1}{3}, ..., b_n,...\\Bigr\\}$$"
      ],
      "metadata": {
        "id": "VoocBcCHkLvy"
      }
    }
  ]
}