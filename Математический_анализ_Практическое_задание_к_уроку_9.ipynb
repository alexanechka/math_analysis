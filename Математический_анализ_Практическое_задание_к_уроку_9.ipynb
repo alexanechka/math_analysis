{
  "nbformat": 4,
  "nbformat_minor": 0,
  "metadata": {
    "colab": {
      "name": "Математический анализ. Практическое задание к уроку 9.ipynb",
      "provenance": [],
      "collapsed_sections": [],
      "authorship_tag": "ABX9TyMbl4LOBLeEuA6zqz/0lzgE",
      "include_colab_link": true
    },
    "kernelspec": {
      "name": "python3",
      "display_name": "Python 3"
    },
    "language_info": {
      "name": "python"
    }
  },
  "cells": [
    {
      "cell_type": "markdown",
      "metadata": {
        "id": "view-in-github",
        "colab_type": "text"
      },
      "source": [
        "<a href=\"https://colab.research.google.com/github/alexanechka/math_analysis/blob/main/%D0%9C%D0%B0%D1%82%D0%B5%D0%BC%D0%B0%D1%82%D0%B8%D1%87%D0%B5%D1%81%D0%BA%D0%B8%D0%B9_%D0%B0%D0%BD%D0%B0%D0%BB%D0%B8%D0%B7_%D0%9F%D1%80%D0%B0%D0%BA%D1%82%D0%B8%D1%87%D0%B5%D1%81%D0%BA%D0%BE%D0%B5_%D0%B7%D0%B0%D0%B4%D0%B0%D0%BD%D0%B8%D0%B5_%D0%BA_%D1%83%D1%80%D0%BE%D0%BA%D1%83_9.ipynb\" target=\"_parent\"><img src=\"https://colab.research.google.com/assets/colab-badge.svg\" alt=\"Open In Colab\"/></a>"
      ]
    },
    {
      "cell_type": "markdown",
      "source": [
        "#Математический анализ\n",
        "\n",
        "## Практическое задание к уроку 9\n",
        "\n",
        "приложила ссылку, чтобы не продлевать ДЗ, разбираюсь "
      ],
      "metadata": {
        "id": "7M8Jy81DviEG"
      }
    },
    {
      "cell_type": "markdown",
      "metadata": {
        "id": "SmdURZ_OkVqQ"
      },
      "source": [
        "__1.__ Вычислить неопределенный интеграл\n",
        "\n",
        "$$\\int \\frac{2x+3}{(x-2)(x+5)}\\,dx$$\n",
        "$$\\,$$\n",
        "__Решение__\n",
        "$$\\,$$\n",
        "$$\\frac{A}{x-2} + \\frac{B}{x+5} = \\frac{A(x+5) + B(x-2)}{(x-2)(x+5)} = \\frac{Ax+5A + Bx-2B}{(x-2)(x+5)} = $$\n",
        "$$\\,$$\n",
        "$$ = \\frac{x(A+B) + (5A - 2B)}{(x-2)(x+5)}$$\n",
        "$$\\,$$\n",
        "$$\\begin{cases}\n",
        "   A+B=2 \\\\\n",
        "   5A-2B=3\n",
        " \\end{cases}\n",
        " \\Rightarrow \n",
        " \\begin{cases}\n",
        "   A=2-B \\\\\n",
        "   10 - 5B-2B=3\n",
        " \\end{cases}\n",
        " \\Rightarrow\n",
        " \\begin{cases}\n",
        "   A=1 \\\\\n",
        "   B=1\n",
        " \\end{cases}$$ \n",
        "$$\\,$$\n",
        "$$\\int \\frac{2x+3}{(x-2)(x+5)}\\,dx = \\int \\frac{1}{x-2}\\,dx + \\int \\frac{1}{x+5}\\,dx = $$\n",
        "$$\\,$$\n",
        "$$ = \\ln|x-2| + \\ln|x+5|+C$$\n",
        "$$\\,$$"
      ]
    },
    {
      "cell_type": "markdown",
      "metadata": {
        "id": "cECfCSANkVqR"
      },
      "source": [
        "__2.__ Вычислить неопределенный интеграл\n",
        "\n",
        "$$\\int e^{2x}\\cos 3x\\,dx$$\n",
        "$$\\,$$\n",
        "__Решение__\n",
        "$$\\,$$\n",
        "$$\\int UdV = UV - \\int VdU$$\n",
        "$$\\,$$\n",
        "$$ U = e^{2x} \\,\\,\\,\\,\\,\\,\\,\\,\\, dU = 2e^{2x}\\,dx $$\n",
        "$$ V = \\frac{1}{3}\\sin{3x} \\,\\,\\,\\,\\,\\,\\,\\,\\, dV = \\cos3x\\,dx $$\n",
        "$$\\,$$\n",
        "$$\\int e^{2x}\\cos 3x\\,dx = e^{2x} \\cdot \\frac{1}{3}\\sin{3x} - \\int \\frac{1}{3}\\sin{3x} \\cdot 2e^{2x}\\,dx = $$\n",
        "$$\\,$$\n",
        "$$ = \\frac{1}{3}e^{2x} \\cdot \\sin{3x} - \\frac{2}{3}\\int \\sin{3x} \\cdot e^{2x}\\,dx $$\n",
        "$$\\,$$\n",
        "$$ U = e^{2x} \\,\\,\\,\\,\\,\\,\\,\\,\\, dU = 2e^{2x}\\,dx $$\n",
        "$$ V = -\\frac{1}{3}\\cos{3x} \\,\\,\\,\\,\\,\\,\\,\\,\\, dV = \\sin3x\\,dx $$\n",
        "$$ \\,$$\n",
        "$$\\int e^{2x}\\cos 3x\\,dx = \\frac{1}{3}e^{2x} \\cdot \\sin{3x} - \\frac{2}{3}e^{2x} \\cdot (-\\frac{1}{3}\\cos{3x} ) -  (- \\frac{2}{3}) \\int (-\\frac{1}{3})\\cos{3x} \\cdot 2e^{2x}\\,dx =  $$\n",
        "$$ = \\frac{1}{3}e^{2x} \\cdot \\sin{3x} + \\frac{2}{9} e^{2x} \\cdot \\cos{3x} - \\frac{4}{9} \\int e^{2x}\\cos 3x\\,dx$$\n",
        "$$ \\,$$\n",
        "$$ \\int e^{2x}\\cos 3x\\,dx = \\frac{9}{13} \\cdot (\\frac{1}{3}e^{2x} \\cdot \\sin{3x} + \\frac{2}{9} e^{2x} \\cdot \\cos{3x}) = $$ \n",
        "$$\\,$$\n",
        "$$ = e^{2x} (\\frac{3}{13} \\sin{3x} + \\frac{2}{13} \\cos{3x})  + C$$\n",
        "$$\\,$$"
      ]
    },
    {
      "cell_type": "markdown",
      "metadata": {
        "id": "DFrjdtbHkVqS"
      },
      "source": [
        "__3.__ Вычислить определенный интеграл\n",
        "\n",
        "$$\\int\\limits_0^{\\ln2} xe^{-x}\\,dx$$\n",
        "$$\\,$$\n",
        "__Решение__\n",
        "$$\\,$$\n",
        "$$\\int UdV = UV - \\int VdU$$\n",
        "$$\\,$$\n",
        "$$ U = x \\,\\,\\,\\,\\,\\,\\,\\,\\, dU = dx $$\n",
        "$$ V = -e^{-x} \\,\\,\\,\\,\\,\\,\\,\\,\\, dV = e^{-x}dx $$\n",
        "$$\\,$$\n",
        "$$\\int\\limits_0^{\\ln2} xe^{-x}\\,dx = (x \\cdot (-e^{-x}))\\bigg|_0^{\\ln2} + \\int\\limits_0^{\\ln2}  e^{-x} \\, dx  = $$\n",
        "$$\\,$$\n",
        "$$ = \\ln2 \\cdot (-\\frac {1}{2}) - (e^{-x}\\Bigl)\\bigg|_0^{\\ln2} = -\\frac{1}{2}\\ln2 - 1 + \\frac{1}{2} = $$\n",
        "$$\\,$$\n",
        "$$ = 1 - \\frac{1}{2} \\ln2 $$"
      ]
    },
    {
      "cell_type": "markdown",
      "metadata": {
        "id": "8WjM7zpH4RyM"
      },
      "source": [
        "__4.__ Вычислить несобственный интеграл\n",
        "\n",
        "$$\\int\\limits_2^{+\\infty} \\frac{dx}{x^2+x-2}$$\n",
        "$$\\,$$\n",
        "__Решение__\n",
        "$$\\,$$"
      ]
    }
  ]
}