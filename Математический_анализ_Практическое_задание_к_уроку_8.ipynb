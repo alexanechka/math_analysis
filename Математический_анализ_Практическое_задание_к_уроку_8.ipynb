{
  "nbformat": 4,
  "nbformat_minor": 0,
  "metadata": {
    "colab": {
      "name": "Математический анализ. Практическое задание к уроку 8.ipynb",
      "provenance": [],
      "collapsed_sections": [],
      "authorship_tag": "ABX9TyOvzjLxwkS+pthYynnLNJaD",
      "include_colab_link": true
    },
    "kernelspec": {
      "name": "python3",
      "display_name": "Python 3"
    },
    "language_info": {
      "name": "python"
    }
  },
  "cells": [
    {
      "cell_type": "markdown",
      "metadata": {
        "id": "view-in-github",
        "colab_type": "text"
      },
      "source": [
        "<a href=\"https://colab.research.google.com/github/alexanechka/math_analysis/blob/main/%D0%9C%D0%B0%D1%82%D0%B5%D0%BC%D0%B0%D1%82%D0%B8%D1%87%D0%B5%D1%81%D0%BA%D0%B8%D0%B9_%D0%B0%D0%BD%D0%B0%D0%BB%D0%B8%D0%B7_%D0%9F%D1%80%D0%B0%D0%BA%D1%82%D0%B8%D1%87%D0%B5%D1%81%D0%BA%D0%BE%D0%B5_%D0%B7%D0%B0%D0%B4%D0%B0%D0%BD%D0%B8%D0%B5_%D0%BA_%D1%83%D1%80%D0%BE%D0%BA%D1%83_8.ipynb\" target=\"_parent\"><img src=\"https://colab.research.google.com/assets/colab-badge.svg\" alt=\"Open In Colab\"/></a>"
      ]
    },
    {
      "cell_type": "markdown",
      "source": [
        "#Математический анализ\n",
        "\n",
        "## Практическое задание к уроку 8"
      ],
      "metadata": {
        "id": "6y-m1peJ3sjv"
      }
    },
    {
      "cell_type": "markdown",
      "metadata": {
        "id": "SmdURZ_OkVqQ"
      },
      "source": [
        "__1.__ Исследовать на условный экстремум функцию\n",
        "\n",
        "$$U=3-8x+6y,$$\n",
        "\n",
        "если\n",
        "\n",
        "$$x^2+y^2=36$$\n",
        "\n",
        "__Решение__\n",
        "\n",
        "Функция Лагранжа:\n",
        "\n",
        "$$L(x,y,\\lambda)=3-8x+6y +\\lambda \\cdot (x^2+y^2-36)$$\n",
        "\n",
        "$$\\begin{cases}\n",
        "   L'_{x}=-8+\\lambda \\cdot2x=0, \\\\\n",
        "   L'_{y}=6+\\lambda \\cdot2y=0, \\\\\n",
        "   L'_{\\lambda}=x^2+y^2-36=0\n",
        " \\end{cases}$$\n",
        " \n",
        "$$\\begin{cases}\n",
        "   x=\\frac{8}{2\\lambda} = \\frac{4}{\\lambda}, \\\\\n",
        "   y=-\\frac{6}{2\\lambda} = -\\frac{3}{\\lambda}, \\\\\n",
        "   \\Bigr(\\frac{4}{\\lambda}\\Bigl)^2+\\Bigr(-\\frac{3}{\\lambda}\\Bigl)^2=36\n",
        " \\end{cases}\\Rightarrow \n",
        " \\begin{cases}\n",
        "   x=-\\frac{4}{\\lambda}, \\\\\n",
        "   y=-\\frac{3}{\\lambda}, \\\\\n",
        "   \\frac{25}{\\lambda^2}=36\n",
        " \\end{cases}\n",
        " \\Rightarrow \n",
        " \\begin{cases}\n",
        "   x=-\\frac{4}{\\lambda}, \\\\\n",
        "   y=-\\frac{3}{\\lambda}, \\\\\n",
        "   \\lambda^2=\\frac{25}{36}\n",
        " \\end{cases}$$\n",
        " \n",
        "Получаем две точки: $(-3,-4,\\frac{1}{2})$ и $(3,4,-\\frac{1}{2})$\n",
        " \n",
        "Найдем вторые производные:\n",
        "### $$L''_{xx}=2\\lambda$$\n",
        "### $$L''_{yy}=2\\lambda$$\n",
        "### $$L''_{\\lambda \\lambda}=0$$\n",
        "### $$L''_{xy}=L''_{yx}=0$$\n",
        "### $$L''_{x\\lambda}=L''_{\\lambda x}=2x$$\n",
        "### $$L''_{y\\lambda}=L''_{\\lambda y}=2y$$ \n",
        "\n",
        "Составим матрицу Гёссе:\n",
        "### $$\\begin{pmatrix}\n",
        "L''_{\\lambda \\lambda} & L''_{\\lambda x} & L''_{\\lambda y}\\\\ \n",
        "L''_{x \\lambda} & L''_{xx} & L''_{xy}\\\\\n",
        "L''_{y \\lambda} & L''_{yx} & L''_{yy}\\\\\n",
        "\\end{pmatrix}\\Rightarrow\n",
        "\\begin{pmatrix}\n",
        "0 & 2x & 2y\\\\ \n",
        "2x & 2\\lambda & 0\\\\\n",
        "2y & 0 & 2\\lambda\\\\\n",
        "\\end{pmatrix}$$\n",
        "\n",
        "Далее найдем определитель в общем виде, а затем уже разберемся с каждой точкой.\n",
        "\n",
        "### $$\\Delta=\\begin{vmatrix}\n",
        "0 & 2x & 2y\\\\ \n",
        "2x & 2\\lambda & 0\\\\\n",
        "2y & 0 & 2\\lambda\\\\\n",
        "\\end{vmatrix}=\n",
        "\\begin{vmatrix}\n",
        "+ & - & +\\\\ \n",
        "- & + & -\\\\\n",
        "+ & - & +\\\\\n",
        "\\end{vmatrix}=0\\cdot\n",
        "\\begin{vmatrix}\n",
        "2\\lambda & 0\\\\\n",
        "0 & 2\\lambda\\\\\n",
        "\\end{vmatrix}-2x\\cdot\n",
        "\\begin{vmatrix}\n",
        "2x & 0\\\\\n",
        "2y & 2\\lambda\\\\\n",
        "\\end{vmatrix}+2y\\cdot\n",
        "\\begin{vmatrix}\n",
        "2x & 2\\lambda\\\\\n",
        "2y & 0\\\\\n",
        "\\end{vmatrix}=(-2x)\\cdot 4x\\lambda+2y \\cdot(-4y\\lambda)=-8\\lambda(x^2+y^2)$$\n",
        "\n",
        "По условию задачи $x^2+y^2=25$, тогда \n",
        "### $$\\Delta=-8\\lambda \\cdot 25 = -200\\lambda$$\n",
        "\n",
        "Т.е. знак определителя зависит только от знака $\\lambda$.\n",
        "\n",
        "Если $\\lambda=\\frac{1}{2}$, то $\\Delta<0$, следовательно $(-3,-4,\\frac{1}{2})$ - точка минимума.\n",
        "\n",
        "Если $\\lambda=-\\frac{1}{2}$, то $\\Delta>0$, следовательно $(3,4,-\\frac{1}{2})$ - точка максимума."
      ]
    },
    {
      "cell_type": "markdown",
      "metadata": {
        "id": "cECfCSANkVqR"
      },
      "source": [
        "__2.__ Исследовать на условный экстремум функцию\n",
        "\n",
        "### $$U=2x^2+12xy+32y^2+15,$$\n",
        "\n",
        "если\n",
        "\n",
        "### $$x^2+16y^2=64$$"
      ]
    },
    {
      "cell_type": "markdown",
      "metadata": {
        "id": "DFrjdtbHkVqS"
      },
      "source": [
        "__3.__ Численно найти хотя бы один действительный корень системы нелинейных уравнений:\n",
        "### $$\\begin{cases}\n",
        "   x^2-y^2+3xy^3-2x^2y^2+2x-3y-5=0 \\\\\n",
        "   3y^3-2x^2+2x^3y-5x^2y^2+5=0\n",
        " \\end{cases}$$"
      ]
    }
  ]
}